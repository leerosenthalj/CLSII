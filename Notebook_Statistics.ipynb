{
 "cells": [
  {
   "cell_type": "code",
   "execution_count": 1,
   "metadata": {},
   "outputs": [],
   "source": [
    "import os\n",
    "import csv  \n",
    "import pdb\n",
    "from math import log10, floor\n",
    "#import itertools\n",
    "#import zip\n",
    "from multiprocessing import Pool\n",
    "\n",
    "import numpy as np\n",
    "import pandas as pd\n",
    "import scipy.optimize as op\n",
    "import scipy.special as spec\n",
    "from scipy import stats\n",
    "from scipy.interpolate import RegularGridInterpolator\n",
    "import scipy.ndimage\n",
    "#from scipy.misc import logsumexp\n",
    "from scipy.linalg import cho_factor, cho_solve\n",
    "\n",
    "import matplotlib\n",
    "import matplotlib.pyplot as plt\n",
    "from matplotlib.ticker import FuncFormatter, MaxNLocator\n",
    "import seaborn as sns\n",
    "import corner\n",
    "\n",
    "import astropy\n",
    "from astropy import stats as astrostats\n",
    "from astropy.timeseries import LombScargle\n",
    "\n",
    "import emcee\n",
    "import celerite\n",
    "import radvel\n",
    "\n",
    "%matplotlib inline"
   ]
  },
  {
   "cell_type": "markdown",
   "metadata": {},
   "source": [
    "# Assuming a polished list of known planets and candidates in the legacy sample, explore and visualize properties such as mass, host star metallicity, etc."
   ]
  },
  {
   "cell_type": "code",
   "execution_count": 3,
   "metadata": {},
   "outputs": [],
   "source": [
    "data = pd.read_csv('../CLSI/legacy_tables/system_props.csv')"
   ]
  },
  {
   "cell_type": "code",
   "execution_count": 4,
   "metadata": {},
   "outputs": [],
   "source": [
    "specmatch = pd.read_csv('~/Academics/Astronomy/Planets/CLSI/legacy_tables/legacy_specmatch_medians.csv')\n",
    "smsyn = specmatch.query('teff_emp > 4700')\n",
    "smemp = specmatch.query('teff_emp <= 4700')\n",
    "fe_select = specmatch['fe_c'].to_list()"
   ]
  },
  {
   "cell_type": "code",
   "execution_count": 116,
   "metadata": {},
   "outputs": [],
   "source": [
    "objects = pd.read_csv('../CLSI/legacy_tables/planet_list.csv')\n",
    "trends = pd.read_csv('../CLSI/legacy_tables/trend_list.csv')"
   ]
  },
  {
   "cell_type": "markdown",
   "metadata": {},
   "source": [
    "## Sort the planets into real, new candidates, known."
   ]
  },
  {
   "cell_type": "code",
   "execution_count": 117,
   "metadata": {},
   "outputs": [],
   "source": [
    "objects_real   = objects.query('status != \"N\" and status != \"A\" and status != \"R\"').reset_index(drop=True)\n",
    "objects_good   = objects_real.query('mass != \"nan\"').reset_index(drop=True)\n",
    "planets_s      = objects_good.query('(status == \"S\" or status == \"SS\") and mass > 10').reset_index(drop=True)\n",
    "planets        = objects_good.query('status != \"S\" and status != \"SS\" and hostname != \"66428\"').reset_index(drop=True)\n",
    "planets_old    = planets.query('status == \"K\"').reset_index(drop=True)\n",
    "planets_new    = planets.query('status == \"C\" or status == \"J\"').reset_index(drop=True)"
   ]
  },
  {
   "cell_type": "markdown",
   "metadata": {},
   "source": [
    "## Pull Specmatch metallicities into planet properties. In 'Masses_good_with_specmatch'."
   ]
  },
  {
   "cell_type": "code",
   "execution_count": 6,
   "metadata": {
    "scrolled": true
   },
   "outputs": [],
   "source": [
    "merge_columns = list(planets.columns)\n",
    "merge_columns.append('fe')\n",
    "m_good_spec = pd.DataFrame(columns=merge_columns)\n",
    "\n",
    "planets['name'] = planets['hostname']\n",
    "m_good_spec = pd.merge(planets, specmatch, on=['name'])"
   ]
  },
  {
   "cell_type": "code",
   "execution_count": 7,
   "metadata": {},
   "outputs": [
    {
     "name": "stdout",
     "output_type": "stream",
     "text": [
      "180 162\n"
     ]
    }
   ],
   "source": [
    "good_spec_filter = m_good_spec.query('fe > -0.6 and (status == \"K\" or status == \"C\")')#axis < 5 and mass > 0.1 \n",
    "print(len(m_good_spec), len(good_spec_filter))"
   ]
  },
  {
   "cell_type": "code",
   "execution_count": 8,
   "metadata": {},
   "outputs": [
    {
     "data": {
      "text/plain": [
       "180"
      ]
     },
     "execution_count": 8,
     "metadata": {},
     "output_type": "execute_result"
    }
   ],
   "source": [
    "len(planets)"
   ]
  },
  {
   "cell_type": "markdown",
   "metadata": {},
   "source": [
    "## Examine mass and period distributions."
   ]
  },
  {
   "cell_type": "code",
   "execution_count": 42,
   "metadata": {},
   "outputs": [
    {
     "data": {
      "image/png": "[encoded data removed]",
      "text/plain": [
       "<Figure size 432x288 with 1 Axes>"
      ]
     },
     "metadata": {
      "needs_background": "light"
     },
     "output_type": "display_data"
    }
   ],
   "source": [
    "fig, ax = plt.subplots()\n",
    "ax.hist(np.log10(planets.query('mass < 15')['mass']), \n",
    "        bins=10, density=False, histtype='step', range=(np.log10(0.008), np.log10(15)),\n",
    "        lw=3, color='black', alpha=1, label='All Planets')\n",
    "\n",
    "matplotlib.rcParams.update({'font.size': 11})\n",
    "ax.set(xlabel=r'$M\\mathrm{sin}i/M_J$', \n",
    "          ylabel='Number')\n",
    "matplotlib.rcParams.update({'font.size': 11})\n",
    "#ax.set_title(r'$M$sin$i$ > 0.1 $M_J$, a > 0.1 AU')\n",
    "        \n",
    "def format_fn(tick_val, tick_pos):\n",
    "    return str(10**tick_val)\n",
    "    #return str(int(10**tick_val))\n",
    "ax.xaxis.set_major_formatter(FuncFormatter(format_fn))\n",
    "ax.xaxis.set_major_locator(MaxNLocator(integer=True))   \n",
    "matplotlib.rcParams.update({'font.size': 11})\n",
    "ax.legend(loc=2)\n",
    "\n",
    "fig.savefig('plots/mass_histogram_all.png', dpi=500, bbox_inches='tight')"
   ]
  },
  {
   "cell_type": "code",
   "execution_count": 24,
   "metadata": {},
   "outputs": [],
   "source": [
    "masses_close = planets.query('axis < 1 and mass < 15')\n",
    "masses_mid   = planets.query('axis >= 1 and axis < 3 and mass < 15')\n",
    "masses_far   = planets.query('axis >= 3 and mass < 15')"
   ]
  },
  {
   "cell_type": "code",
   "execution_count": 25,
   "metadata": {},
   "outputs": [
    {
     "data": {
      "image/png": "[encoded data removed]",
      "text/plain": [
       "<Figure size 432x288 with 1 Axes>"
      ]
     },
     "metadata": {
      "needs_background": "light"
     },
     "output_type": "display_data"
    }
   ],
   "source": [
    "mclose = masses_close.mass\n",
    "#thresh_close = np.log10(0.075) #50% completeness threshold\n",
    "\n",
    "fig, ax = plt.subplots()\n",
    "ax.hist(np.log10(mclose), bins=10, density=False, histtype='step',\n",
    "        lw=3, color='black', alpha=1, label='a < 1 AU')\n",
    "\n",
    "matplotlib.rcParams.update({'font.size': 11})\n",
    "ax.set(xlabel=r'$M\\mathrm{sin}i\\ (M_J)$', \n",
    "          ylabel='Number')\n",
    "matplotlib.rcParams.update({'font.size': 11})\n",
    "#ax.set_title(r'$M$sin$i$ > 0.1 $M_J$, a > 0.1 AU')\n",
    "        \n",
    "def format_fn(tick_val, tick_pos):\n",
    "    return str(10**tick_val)\n",
    "    \n",
    "ax.xaxis.set_major_formatter(FuncFormatter(format_fn))\n",
    "ax.xaxis.set_major_locator(MaxNLocator(integer=True))   \n",
    "matplotlib.rcParams.update({'font.size': 11})\n",
    "ax.legend(loc=1)\n",
    "\n",
    "fig.savefig('plots/close_histogram.png', dpi=500, bbox_inches='tight')"
   ]
  },
  {
   "cell_type": "code",
   "execution_count": 26,
   "metadata": {},
   "outputs": [
    {
     "data": {
      "image/png": "[encoded data removed]",
      "text/plain": [
       "<Figure size 432x288 with 1 Axes>"
      ]
     },
     "metadata": {
      "needs_background": "light"
     },
     "output_type": "display_data"
    }
   ],
   "source": [
    "mmid = masses_mid.mass\n",
    "thresh_mid = np.log10(0.15) #50% completeness threshold\n",
    "\n",
    "fig, ax = plt.subplots()\n",
    "ax.hist(np.log10(mmid), bins=10, density=True, histtype='step',\n",
    "        lw=3, color='black', alpha=1, label='1 AU < a < 3 AU')\n",
    "\n",
    "matplotlib.rcParams.update({'font.size': 11})\n",
    "ax.set(xlabel=r'$M\\mathrm{sin}i\\ (M_J)$', \n",
    "          ylabel='Number density')\n",
    "matplotlib.rcParams.update({'font.size': 11})\n",
    "        \n",
    "def format_fn(tick_val, tick_pos):\n",
    "    return str(10**tick_val)\n",
    "    \n",
    "ax.xaxis.set_major_formatter(FuncFormatter(format_fn))\n",
    "ax.xaxis.set_major_locator(MaxNLocator(integer=True))   \n",
    "matplotlib.rcParams.update({'font.size': 11})\n",
    "ax.legend(loc=2)\n",
    "\n",
    "fig.savefig('plots/mid_histogram.png', dpi=500, bbox_inches='tight')"
   ]
  },
  {
   "cell_type": "code",
   "execution_count": 27,
   "metadata": {
    "scrolled": true
   },
   "outputs": [
    {
     "data": {
      "image/png": "[encoded data removed]",
      "text/plain": [
       "<Figure size 432x288 with 1 Axes>"
      ]
     },
     "metadata": {
      "needs_background": "light"
     },
     "output_type": "display_data"
    }
   ],
   "source": [
    "mfar = masses_far.mass\n",
    "thresh_far = np.log10(1.2) #50% completeness threshold\n",
    "\n",
    "fig, ax = plt.subplots()\n",
    "ax.hist(np.log10(mfar), bins=10, density=True, histtype='step',\n",
    "        lw=3, color='black', alpha=1, label='a > 3 AU')\n",
    "\n",
    "matplotlib.rcParams.update({'font.size': 11})\n",
    "ax.set(xlabel=r'$M\\mathrm{sin}i\\ (M_J)$', \n",
    "          ylabel='Number density')\n",
    "matplotlib.rcParams.update({'font.size': 11})\n",
    "        \n",
    "def format_fn(tick_val, tick_pos):\n",
    "    return str(10**tick_val)\n",
    "\n",
    "ax.xaxis.set_major_formatter(FuncFormatter(format_fn))\n",
    "ax.xaxis.set_major_locator(MaxNLocator(integer=True))   \n",
    "matplotlib.rcParams.update({'font.size': 11})\n",
    "ax.legend(loc=2)\n",
    "\n",
    "fig.savefig('plots/far_histogram.png', dpi=500, bbox_inches='tight')"
   ]
  },
  {
   "cell_type": "markdown",
   "metadata": {},
   "source": [
    "## Do some preliminary work on giant multis."
   ]
  },
  {
   "cell_type": "code",
   "execution_count": 178,
   "metadata": {},
   "outputs": [],
   "source": [
    "planets_big_all   = planets.query('mass > 0.1')\n",
    "planets_small_all = planets.query('mass <= 0.1')\n",
    "\n",
    "names_big_all = np.unique(planets_big_all.hostname)\n",
    "nplanets_big_all = np.array(planets_big_all.groupby('hostname').count()['status'])\n",
    "db_nplanets_big_all = pd.DataFrame({'hostname':names_big_all, 'nplanets':nplanets_big_all})\n",
    "\n",
    "names_small_all = np.unique(planets_small_all.hostname)\n",
    "nplanets_small_all = np.array(planets_small_all.groupby('hostname').count()['status'])\n",
    "db_nplanets_small_all = pd.DataFrame({'hostname':names_small_all, 'nplanets':nplanets_small_all})\n",
    "\n",
    "# Do same nplanets thingy for all planets, no mass cuts.\n",
    "names_all = np.unique(planets.hostname)\n",
    "nplanets_all = np.array(planets.groupby('hostname').count()['status'])\n",
    "db_nplanets_all = pd.DataFrame({'hostname':names_all, 'nplanets':nplanets_all})\n",
    "\n",
    "planets_all       = pd.merge(planets, db_nplanets_all, on='hostname').reset_index()\n",
    "planets_big_all   = pd.merge(planets_big_all, db_nplanets_big_all, on='hostname').reset_index()\n",
    "planets_small_all = pd.merge(planets_small_all, db_nplanets_small_all, on='hostname').reset_index()\n",
    "\n",
    "db_nplanets_all       = None\n",
    "db_nplanets_big_all   = None\n",
    "db_nplanets_small_all = None"
   ]
  },
  {
   "cell_type": "code",
   "execution_count": 179,
   "metadata": {},
   "outputs": [],
   "source": [
    "planets_big_multi_all = planets_big_all.query('nplanets > 1')\n",
    "planets_multi_all     = planets_all.query('nplanets > 1')"
   ]
  },
  {
   "cell_type": "code",
   "execution_count": 181,
   "metadata": {},
   "outputs": [],
   "source": [
    "planets_outer = planets_big_multi_all.query('axis > 10')"
   ]
  },
  {
   "cell_type": "code",
   "execution_count": 182,
   "metadata": {},
   "outputs": [
    {
     "name": "stdout",
     "output_type": "stream",
     "text": [
      "0.3333333333333333 +\\- 0.3333333333333333\n"
     ]
    }
   ],
   "source": [
    "prob_outer = len(planets_big_multi_all.query('hostname in @planets_outer.hostname \\\n",
    "                 and axis < 0.1'))/float(len(planets_outer))\n",
    "sig_outer = np.sqrt(float(len(planets_big_multi_all.query('hostname in @planets_outer.hostname \\\n",
    "                    and axis < 0.1')))) / len(planets_outer)\n",
    "print(prob_outer, '+\\-', sig_outer)"
   ]
  },
  {
   "cell_type": "markdown",
   "metadata": {},
   "source": [
    "## P(HJ | 10 AU > Outer > 4.64 AU)"
   ]
  },
  {
   "cell_type": "code",
   "execution_count": 183,
   "metadata": {},
   "outputs": [],
   "source": [
    "planets_med = planets_big_multi_all.query('axis < 10 and axis > 4.64')"
   ]
  },
  {
   "cell_type": "code",
   "execution_count": 184,
   "metadata": {},
   "outputs": [
    {
     "name": "stdout",
     "output_type": "stream",
     "text": [
      "0.07692307692307693 +\\- 0.07692307692307693\n"
     ]
    }
   ],
   "source": [
    "prob_med = len(planets_big_multi_all.query('hostname in @planets_med.hostname \\\n",
    "               and axis < 0.1'))/float(len(planets_med))\n",
    "sig_med = np.sqrt(len(planets_big_multi_all.query('hostname in @planets_med.hostname \\\n",
    "                  and axis < 0.1')))/float(len(planets_med))\n",
    "print(prob_med, '+\\-', sig_med)"
   ]
  },
  {
   "cell_type": "markdown",
   "metadata": {},
   "source": [
    "## P(HJ | 4.64 AU > Outer > 2.15 AU)"
   ]
  },
  {
   "cell_type": "code",
   "execution_count": 185,
   "metadata": {},
   "outputs": [],
   "source": [
    "planets_inner = planets_big_multi_all.query('axis < 4.64 and axis > 2.15')"
   ]
  },
  {
   "cell_type": "code",
   "execution_count": 186,
   "metadata": {},
   "outputs": [
    {
     "name": "stdout",
     "output_type": "stream",
     "text": [
      "0.15384615384615385 +\\- 0.10878565864408424\n"
     ]
    }
   ],
   "source": [
    "prob_inner = len(planets_big_multi_all.query('hostname in @planets_inner.hostname \\\n",
    "                 and axis < 0.1'))/float(len(planets_med))\n",
    "sig_inner = np.sqrt(len(planets_big_multi_all.query('hostname in @planets_inner.hostname \\\n",
    "                 and axis < 0.1')))/float(len(planets_med))\n",
    "print(prob_inner, '+\\-', sig_inner)"
   ]
  },
  {
   "cell_type": "markdown",
   "metadata": {},
   "source": [
    "## How many stars that host small planets have linear or parabolic trends?"
   ]
  },
  {
   "cell_type": "code",
   "execution_count": 8,
   "metadata": {},
   "outputs": [],
   "source": [
    "trend_names = np.unique(trends.hostname)\n",
    "small_names = np.unique(planets.query('mass < 0.1 and hostname != \"143761\"').hostname)"
   ]
  },
  {
   "cell_type": "code",
   "execution_count": 9,
   "metadata": {},
   "outputs": [
    {
     "data": {
      "text/plain": [
       "['156668', '34445', '45184']"
      ]
     },
     "execution_count": 9,
     "metadata": {},
     "output_type": "execute_result"
    }
   ],
   "source": [
    "[name for name in trend_names if name in small_names]"
   ]
  },
  {
   "cell_type": "markdown",
   "metadata": {},
   "source": [
    "### The 156668 trend is modeling out an activity alias, and the 45184 trend might be activity itself."
   ]
  },
  {
   "cell_type": "markdown",
   "metadata": {},
   "source": [
    "## Inner super-Earths and outer gas giants"
   ]
  },
  {
   "cell_type": "code",
   "execution_count": 120,
   "metadata": {},
   "outputs": [
    {
     "name": "stdout",
     "output_type": "stream",
     "text": [
      "43 29\n"
     ]
    }
   ],
   "source": [
    "supers = planets.query('mass < 0.1 and hostname != \"143761\"').reset_index(drop=True)\n",
    "# HD 143761 has an inner giant and an outer small planet. Weirdo.\n",
    "supernames = list(supers.hostname)\n",
    "print(len(supers), len(np.unique(supers.hostname)))"
   ]
  },
  {
   "cell_type": "code",
   "execution_count": 8,
   "metadata": {},
   "outputs": [],
   "source": [
    "outers = planets.query('mass >= 0.1 and hostname in @supernames and hostname != \"143761\"').reset_index(drop=True)\n",
    "outernames = list(outers.hostname) # and axis > 0.3"
   ]
  },
  {
   "cell_type": "code",
   "execution_count": 9,
   "metadata": {},
   "outputs": [],
   "source": [
    "pairs = planets.query('hostname in @outernames').reset_index(drop=True)\n",
    "solos = planets.query('mass < 0.1 and not (hostname in @outernames)')"
   ]
  },
  {
   "cell_type": "markdown",
   "metadata": {},
   "source": [
    "## Preliminary statistics."
   ]
  },
  {
   "cell_type": "code",
   "execution_count": 118,
   "metadata": {},
   "outputs": [],
   "source": [
    "all_outers  = planets.query('mass >= 0.1 and axis > 0.23 and hostname != \"143761\"')\n",
    "outernames = list(all_outers.hostname)\n",
    "inners = planets.query('mass < 0.1 and hostname in @outernames and hostname != \"143761\"').reset_index(drop=True)"
   ]
  },
  {
   "cell_type": "code",
   "execution_count": 12,
   "metadata": {},
   "outputs": [
    {
     "name": "stdout",
     "output_type": "stream",
     "text": [
      "43 small planets, 14 outer companions, 0.32558139534883723\n"
     ]
    }
   ],
   "source": [
    "print(len(supers), 'small planets,', len(outers), 'outer companions,', len(outers)/len(supers))"
   ]
  },
  {
   "cell_type": "code",
   "execution_count": 13,
   "metadata": {},
   "outputs": [
    {
     "name": "stdout",
     "output_type": "stream",
     "text": [
      "29 small planet systems, 9 inner and outer systems, 0.3103448275862069\n"
     ]
    }
   ],
   "source": [
    "print(len(np.unique(supers.hostname)), 'small planet systems,', len(np.unique(outers.hostname)), \n",
    "      'inner and outer systems,', len(np.unique(outers.hostname))/len(np.unique(supers.hostname)))"
   ]
  },
  {
   "cell_type": "code",
   "execution_count": 14,
   "metadata": {},
   "outputs": [
    {
     "name": "stdout",
     "output_type": "stream",
     "text": [
      "113 cold giants, 14 inner companions, 0.12389380530973451\n"
     ]
    }
   ],
   "source": [
    "print(len(all_outers), 'cold giants,', len(inners), 'inner companions,', len(inners)/len(all_outers))"
   ]
  },
  {
   "cell_type": "code",
   "execution_count": 15,
   "metadata": {},
   "outputs": [
    {
     "name": "stdout",
     "output_type": "stream",
     "text": [
      "81 cold giant systems, 9 inner and outer systems, 0.1111111111111111\n"
     ]
    }
   ],
   "source": [
    "print(len(np.unique(all_outers.hostname)), 'cold giant systems,', len(np.unique(inners.hostname)), \n",
    "      'inner and outer systems,', len(np.unique(inners.hostname))/len(np.unique(all_outers.hostname)))"
   ]
  },
  {
   "cell_type": "markdown",
   "metadata": {},
   "source": [
    "## Compare metallicities of all planet hosts and inner-outer pair hosts."
   ]
  },
  {
   "cell_type": "code",
   "execution_count": 16,
   "metadata": {
    "collapsed": true
   },
   "outputs": [
    {
     "ename": "NameError",
     "evalue": "name 'm_good_spec' is not defined",
     "output_type": "error",
     "traceback": [
      "\u001b[0;31m---------------------------------------------------------------------------\u001b[0m",
      "\u001b[0;31mNameError\u001b[0m                                 Traceback (most recent call last)",
      "\u001b[0;32m<ipython-input-16-b7dba4f6c752>\u001b[0m in \u001b[0;36m<module>\u001b[0;34m\u001b[0m\n\u001b[0;32m----> 1\u001b[0;31m \u001b[0mm_spec_pairs\u001b[0m \u001b[0;34m=\u001b[0m \u001b[0mm_good_spec\u001b[0m\u001b[0;34m.\u001b[0m\u001b[0mquery\u001b[0m\u001b[0;34m(\u001b[0m\u001b[0;34m'hostname in @outernames'\u001b[0m\u001b[0;34m)\u001b[0m\u001b[0;34m\u001b[0m\u001b[0;34m\u001b[0m\u001b[0m\n\u001b[0m",
      "\u001b[0;31mNameError\u001b[0m: name 'm_good_spec' is not defined"
     ]
    }
   ],
   "source": [
    "m_spec_pairs = m_good_spec.query('hostname in @outernames')"
   ]
  },
  {
   "cell_type": "code",
   "execution_count": 58,
   "metadata": {},
   "outputs": [
    {
     "data": {
      "image/png": "[encoded data removed]",
      "text/plain": [
       "<Figure size 432x288 with 1 Axes>"
      ]
     },
     "metadata": {
      "needs_background": "light"
     },
     "output_type": "display_data"
    }
   ],
   "source": [
    "fig, ax = plt.subplots()\n",
    "ax.hist(m_good_spec.fe_c, density=False, histtype='step', lw=2, color='purple', label='Planet Hosts')\n",
    "ax.hist(m_spec_pairs.fe_c, density=False, histtype='step', lw=2, color='green', label='Pair Hosts')\n",
    "ax.set_xlabel('[Fe/H]')\n",
    "ax.set_ylabel('N')\n",
    "ax.legend(loc=2)\n",
    "fig.savefig('analysis_plots/pair_fe_histogram.pdf')"
   ]
  },
  {
   "cell_type": "markdown",
   "metadata": {},
   "source": [
    "## Sketch code to stack injections on cadence, with msini & a."
   ]
  },
  {
   "cell_type": "code",
   "execution_count": 149,
   "metadata": {},
   "outputs": [],
   "source": [
    "def save_completeness(listf, outf, stellarf, recdir):\n",
    "    names = pd.read_csv(listf)\n",
    "    stars = pd.read_csv(stellarf)\n",
    "    \n",
    "    all_recoveries = pd.DataFrame()\n",
    "    \n",
    "    for name in names['name']:\n",
    "        recoveries = pd.read_csv(recdir + '/' + name + '/recoveries.csv')\n",
    "        mstar = float(stars.query('name == @name')['mass_c'])\n",
    "        \n",
    "        recoveries['inj_msini'] = radvel.utils.Msini(recoveries['inj_k'],\n",
    "                                                     recoveries['inj_period'],\n",
    "                                                     mstar, recoveries['inj_e'],\n",
    "                                                     Msini_units='jupiter')\n",
    "        recoveries['rec_msini'] = radvel.utils.Msini(recoveries['rec_k'],\n",
    "                                                     recoveries['rec_period'],\n",
    "                                                     mstar, recoveries['rec_e'],\n",
    "                                                     Msini_units='jupiter')\n",
    "        recoveries['inj_au'] = radvel.utils.semi_major_axis(recoveries['inj_period'], mstar)\n",
    "        recoveries['rec_au'] = radvel.utils.semi_major_axis(recoveries['rec_period'], mstar)    \n",
    "        \n",
    "        all_recoveries = all_recoveries.append(recoveries).reset_index(drop=True)\n",
    "        \n",
    "    all_recoveries.to_csv(outf)"
   ]
  },
  {
   "cell_type": "markdown",
   "metadata": {},
   "source": [
    "## Create class for evaluating a completeness grid across injections and recoveries. Clone of BJ's code in RVSearch, except passing in msini and axis as inputs, rather than computing with a single stellar mass."
   ]
  },
  {
   "cell_type": "code",
   "execution_count": 266,
   "metadata": {},
   "outputs": [],
   "source": [
    "class Completeness(object):\n",
    "    \"\"\"Object to handle a suite of injection/recovery tests\n",
    "\n",
    "    Args:\n",
    "        recoveries (DataFrame): DataFrame of injection/recovery tests from Injections class\n",
    "        xcol (string): (optional) column name for independent variable. Completeness grids and\n",
    "            interpolator will work in these axes\n",
    "        ycol (string): (optional) column name for dependent variable. Completeness grids and\n",
    "            interpolator will work in these axes\n",
    "\n",
    "    \"\"\"   \n",
    "    def __init__(self, recoveries, xcol='inj_au', ycol='inj_msini'):\n",
    "\n",
    "        self.recoveries = recoveries\n",
    "        \n",
    "        self.xcol = xcol\n",
    "        self.ycol = ycol\n",
    "\n",
    "        self.grid = None\n",
    "        self.interpolator = None    \n",
    "\n",
    "    def completeness_grid(self, xlim, ylim, resolution=50, xlogwin=0.5, ylogwin=0.5):\n",
    "\n",
    "        xgrid = np.logspace(np.log10(xlim[0]),\n",
    "                            np.log10(xlim[1]),\n",
    "                            resolution)\n",
    "        ygrid = np.logspace(np.log10(ylim[0]),\n",
    "                            np.log10(ylim[1]),\n",
    "                            resolution)\n",
    "\n",
    "        xinj = self.recoveries[self.xcol]\n",
    "        yinj = self.recoveries[self.ycol]\n",
    "\n",
    "        good = self.recoveries['recovered']\n",
    "        \n",
    "        z = np.zeros((len(ygrid), len(xgrid)))\n",
    "        last = 0\n",
    "        for i,x in enumerate(xgrid):\n",
    "            for j,y in enumerate(ygrid):\n",
    "                xlow  = 10**(np.log10(x) - xlogwin/2)\n",
    "                xhigh = 10**(np.log10(x) + xlogwin/2)\n",
    "                ylow  = 10**(np.log10(y) - ylogwin/2)\n",
    "                yhigh = 10**(np.log10(y) + ylogwin/2)\n",
    "\n",
    "                xbox = yinj[np.where((xinj <= xhigh) & (xinj >= xlow))[0]]\n",
    "                if len(xbox) == 0 or y > max(xbox) or y < min(xbox):\n",
    "                    z[j, i] = np.nan\n",
    "                    continue\n",
    "\n",
    "                boxall = np.where((xinj <= xhigh) & (xinj >= xlow) &\n",
    "                                  (yinj <= yhigh) & (yinj >= ylow))[0]\n",
    "                boxgood = np.where((xinj[good] <= xhigh) &\n",
    "                                   (xinj[good] >= xlow) & (yinj[good] <= yhigh) &\n",
    "                                   (yinj[good] >= ylow))[0]\n",
    "\n",
    "                if len(boxall) > 10:\n",
    "                    z[j, i] = float(len(boxgood))/len(boxall)\n",
    "                    last = float(len(boxgood))/len(boxall)\n",
    "                else:\n",
    "                    z[j, i] = np.nan\n",
    "\n",
    "        self.grid = (xgrid, ygrid, z)\n",
    "    \n",
    "    def interpolate(self, x, y, refresh=False):\n",
    "\n",
    "        if self.interpolator is None or refresh:\n",
    "            assert self.grid is not None, \"Must run Completeness.completeness_grid().\"\n",
    "            zi = self.grid[2].T\n",
    "            self.interpolator = RegularGridInterpolator((self.grid[0], self.grid[1]), zi, \n",
    "                                                        bounds_error=False, fill_value=0.01) # Maybe don't set fill\n",
    "        \n",
    "        return self.interpolator(np.array([np.atleast_1d(x), np.atleast_1d(y)]).T)"
   ]
  },
  {
   "cell_type": "markdown",
   "metadata": {},
   "source": [
    "## Sketch DFM occurrence likelihood model."
   ]
  },
  {
   "cell_type": "code",
   "execution_count": 267,
   "metadata": {},
   "outputs": [],
   "source": [
    "class Hierarchy(object):\n",
    "    \"\"\"Do hierarchical Bayesian sampling of occurrence posteriors, based on DFM et al. 2014.\n",
    "    Args:\n",
    "        pop (pandas DataFrame): dataframe of planet parameter chains\n",
    "\n",
    "    \"\"\"\n",
    "    def __init__(self, pop, completeness, res=4, bins=np.array([[[np.log(0.02), np.log(20)], \n",
    "                                                                 [np.log(2.), np.log(6000)]]])):\n",
    "        # TO-DO: Replace single-param planets with paths to posteriors.\n",
    "        self.pop          = pop # Replace pairs of m & a with chains\n",
    "        self.completeness = completeness # Completeness grid, defined as class object below.\n",
    "        self.completeness.completeness_grid([0.01, 40], [1, 30000])\n",
    "        self.res = res # Resolution for logarithmic completeness integration.\n",
    "        self.bins = bins # Logarithmic bins in msini/axis space.\n",
    "        self.nbins = len(self.bins)\n",
    "        self.lna_edges = np.unique(self.bins[:, 0])\n",
    "        self.lnm_edges = np.unique(self.bins[:, 1])\n",
    "        self.nabins = len(self.lna_edges) - 1\n",
    "        self.nmbins = len(self.lnm_edges) - 1\n",
    "        self.na = len(self.lna_edges)\n",
    "        self.nm = len(self.lnm_edges)\n",
    "        \n",
    "        # Compute bin centers and widths.\n",
    "        self.bin_widths  = np.diff(self.bins)\n",
    "        self.bin_centers = np.mean(self.bins, axis=2)\n",
    "        self.bin_areas   = self.bin_widths[:,0]*self.bin_widths[:,1]\n",
    "        \n",
    "        # Pre-compute integrated completeness for each bin.\n",
    "        self.Qints = np.zeros(self.nbins)\n",
    "        for n, binn in enumerate(self.bins):\n",
    "            for i in np.arange(4): #self.res\n",
    "                for j in np.arange(4):\n",
    "                    #lna1 = binn[0][0] + 0.25*i*(binn[0][1] - binn[0][0])\n",
    "                    #lnm1 = binn[1][0] + 0.25*j*(binn[0][1] - binn[1][0])\n",
    "                    lna_av = binn[0][0] + (0.25*i + 0.125)*(binn[0][1] - binn[0][0])\n",
    "                    lnm_av = binn[1][0] + (0.25*j + 0.125)*(binn[1][1] - binn[1][0])\n",
    "                    self.Qints[n] += (self.bin_areas[n][0]/self.res**2)*self.completeness.interpolate(\n",
    "                                                                          np.exp(lna_av), \n",
    "                                                                          np.exp(lnm_av))\n",
    "                \n",
    "        axis  = []\n",
    "        msini = []\n",
    "        self.planetnames = np.unique([x[:-2] + x[-1] for x in pop.columns]) \n",
    "        self.starnames   = np.unique([x[:-1] for x in self.planetnames])\n",
    "        self.nplanets    = len(self.planetnames)\n",
    "        self.nsamples    = len(self.pop)\n",
    "        self.nstars      = len(self.starnames)\n",
    "        \n",
    "        medians = pop.median() # Along chain axis, once using chains.\n",
    "        for name in self.planetnames:\n",
    "            axis.append(medians[[name[:-1] + 'a' + name[-1]]][0])\n",
    "            msini.append(medians[[name[:-1] + 'M' + name[-1]]][0])            \n",
    "        self.pop_med = pd.DataFrame.from_dict({'axis':axis, 'msini':msini})\n",
    "        \n",
    "    def max_like(self):\n",
    "        ### Approximate max-likelihood occurrence values, with which to seed MCMC.\n",
    "        mlvalues = np.empty((0,2))\n",
    "        for n, binn in enumerate(self.bins):\n",
    "            # Integrate completeness across each individual bin.\n",
    "            a1 = np.exp(binn[0][0])\n",
    "            a2 = np.exp(binn[0][1])\n",
    "            M1 = np.exp(binn[1][0])\n",
    "            M2 = np.exp(binn[1][1])\n",
    "            planets = self.pop_med.query('axis >= @a1 and axis < @a2 and \\\n",
    "                                         msini >= @M1 and msini < @M2')\n",
    "            nplanets = len(planets)\n",
    "            ml  = nplanets/self.Qints[n]\n",
    "            uml = ml/np.sqrt(nplanets)\n",
    "            if not np.isfinite(uml):\n",
    "                uml = 1.\n",
    "            mlvalues = np.append(mlvalues, np.array([[ml, uml]]), axis=0) \n",
    "        self.mlvalues = mlvalues\n",
    "        \n",
    "    def occurrence(self, lna, lnm, theta):\n",
    "        # Select appropriate bins, given lna & lnm.\n",
    "        #pdb.set_trace()\n",
    "        ia = np.atleast_1d(np.digitize(lna, self.lna_edges) - 1)\n",
    "        im = np.atleast_1d(np.digitize(lnm, self.lnm_edges) - 1)\n",
    "        iao = ia\n",
    "        imo = im\n",
    "        ia[ia < 0] = 0\n",
    "        im[im < 0] = 0\n",
    "        ia[ia > self.nabins - 1] = self.nabins - 1\n",
    "        im[im > self.nmbins - 1] = self.nmbins - 1\n",
    "        #pdb.set_trace()\n",
    "        \n",
    "        occur = theta[ia + im*self.nabins]\n",
    "        # Return zero for samples outside of the bin limits.\n",
    "        occur[iao < 0] = 0\n",
    "        occur[imo < 0] = 0\n",
    "        occur[iao > self.nabins - 1] = 0\n",
    "        occur[imo > self.nmbins - 1] = 0\n",
    "        return occur    \n",
    "\n",
    "    def lnlike(self, theta): \n",
    "        theta[theta < 0] = 0\n",
    "        sums = []\n",
    "        for planet in self.planetnames:\n",
    "            #print(planet)\n",
    "            probs = []\n",
    "            sample_a = np.array(self.pop[planet[:-2] + '_a' + planet[-1]])\n",
    "            sample_M = np.array(self.pop[planet[:-2] + '_M' + planet[-1]])\n",
    "            probs = self.completeness.interpolate(sample_a, sample_M)*self.occurrence(\n",
    "                                           np.log(sample_a), np.log(sample_M), theta)\n",
    "            sums.append(np.sum(probs))\n",
    "        \n",
    "        # Integrate the observed occurrence over all bins. FIX BUG HERE\n",
    "        nexpect = 0\n",
    "        for i, binn in enumerate(self.bins):\n",
    "            for j in np.arange(4): \n",
    "                for k in np.arange(4):\n",
    "                    lna_av = binn[0][0] + (0.25*j + 0.125)*(binn[0][1] - binn[0][0])\n",
    "                    lnm_av = binn[1][0] + (0.25*k + 0.125)*(binn[1][1] - binn[1][0])                    \n",
    "                    nexpect += (self.bin_areas[i][0]/16)*self.completeness.interpolate(\n",
    "                                                                        np.exp(lna_av), \n",
    "                                                                        np.exp(lnm_av))*self.occurrence(\n",
    "                                                                        lna_av, lnm_av, theta)               \n",
    "        return -nexpect + np.sum(np.log(np.array(sums)/self.nsamples))\n",
    "    \n",
    "    def gpprior(self, mu, l0, la, lm, theta):\n",
    "        ### Prior on occurrence. Gaussian process, for smoothly changing bin heights.\n",
    "        if not -20 < mu < 20:\n",
    "            return -np.inf\n",
    "        if not -2 < l0 < 8:\n",
    "            return -np.inf\n",
    "        if not -2 < la < 8:\n",
    "            return -np.inf\n",
    "        if not -2 < lm < 8:\n",
    "            return -np.inf\n",
    "        if np.any(theta < 0): # + (theta > 50)):\n",
    "            return -np.inf\n",
    "\n",
    "        # Compute Euclidean distance between bins, [∆i − ∆j]T Σ−1[∆i − ∆j]\n",
    "        mini_inv_covar = np.array([[np.exp(la)**-1, 0], [0, np.exp(lm)**-1]])\n",
    "        X              = np.matmul(mini_inv_covar, self.bin_centers)\n",
    "        distance       = scipy.spatial.distance.cdist(X, X, 'sqeuclidean')\n",
    "        \n",
    "        K        = np.exp(l0)*np.exp(-distance)\n",
    "        s, logdK = np.linalg.slogdet(K)\n",
    "        \n",
    "        y  = theta - mu\n",
    "        F  = cho_factor(K)\n",
    "        lp = -0.5*(logdK + np.dot(y, cho_solve(F, y)))\n",
    "        \n",
    "        if not np.isfinite(lp):\n",
    "            return -np.inf\n",
    "        return lp\n",
    "    \n",
    "    def lnprior(self, theta):\n",
    "        if np.any(theta < 0):\n",
    "            return -np.inf\n",
    "        else:\n",
    "            return 0\n",
    "    \n",
    "    def lnpost(self, theta):\n",
    "        return self.lnlike(theta) + self.lnprior(theta) # Leave out GP for now\n",
    "    \n",
    "    def sample(self, gp=False, parallel=False):\n",
    "        nwalkers = 10*self.nbins\n",
    "        ndim = self.nbins #+ 4 # number of prior GP hyperparameters\n",
    "        mu_init = np.mean(self.mlvalues[:, 0])\n",
    "        l0_init = 1\n",
    "        la_init = 1\n",
    "        lm_init = 1\n",
    "        pos = [np.abs(self.mlvalues[:, 0] + 0.01*np.random.randn(ndim)) for i in np.arange(nwalkers)]\n",
    "\n",
    "        if parallel:\n",
    "            with Pool() as pool:\n",
    "                self.sampler = emcee.EnsembleSampler(nwalkers, ndim, self.lnpost, pool=pool)\n",
    "                self.sampler.run_mcmc(pos, 1000, progress=True)\n",
    "                self.chains = self.sampler.chain[:, 50:, :].reshape((-1, ndim))\n",
    "        else:\n",
    "            self.sampler = emcee.EnsembleSampler(nwalkers, ndim, self.lnpost)\n",
    "            self.sampler.run_mcmc(pos, 1000, progress=True)\n",
    "            self.chains = self.sampler.chain[:, 50:, :].reshape((-1, ndim))                                \n",
    "    \n",
    "    def run(self):\n",
    "        self.max_like()\n",
    "        self.sample()                       "
   ]
  },
  {
   "cell_type": "code",
   "execution_count": 27,
   "metadata": {},
   "outputs": [],
   "source": [
    "def lngrid(min_a, max_a, min_M, max_M, resa, resm):\n",
    "    lna1 = np.log(min_a)\n",
    "    lna2 = np.log(max_a)\n",
    "    lnM1 = np.log(min_M)\n",
    "    lnM2 = np.log(max_M)\n",
    "    \n",
    "    da = (lna2 - lna1)/resa\n",
    "    dM = (lnM2 - lnM1)/resm\n",
    "\n",
    "    bins = []\n",
    "    for i in np.arange(int(resa)):\n",
    "        for j in np.arange(int(resm)):\n",
    "            bins.append([[lna1 + i*da, lna1 + (i+1)*da], \n",
    "                         [lnM1 + j*dM, lnM1 + (j+1)*dM]])\n",
    "            \n",
    "    return np.array(bins)"
   ]
  },
  {
   "cell_type": "code",
   "execution_count": 68,
   "metadata": {},
   "outputs": [],
   "source": [
    "recoveries_all = pd.read_csv('recoveries_all_earth.csv')\n",
    "completey_all  = Completeness(recoveries_all)"
   ]
  },
  {
   "cell_type": "code",
   "execution_count": 20,
   "metadata": {},
   "outputs": [],
   "source": [
    "completey_all.completeness_grid([0.01, 40], [1, 30000])"
   ]
  },
  {
   "cell_type": "code",
   "execution_count": 22,
   "metadata": {},
   "outputs": [
    {
     "data": {
      "text/plain": [
       "array([0.01220107, 0.00457318, 0.00258574, 0.00153472])"
      ]
     },
     "execution_count": 22,
     "metadata": {},
     "output_type": "execute_result"
    }
   ],
   "source": [
    "completey_all.interpolate(np.arange(1, 5), np.arange(10, 14))"
   ]
  },
  {
   "cell_type": "code",
   "execution_count": 258,
   "metadata": {},
   "outputs": [],
   "source": [
    "samples_all = pd.read_csv('../samples_all_1000.csv').sample(50).reset_index(drop=True)\n",
    "good_cols = [col for col in samples_all.columns if '_a' in col or '_M' in col]\n",
    "for col in good_cols:\n",
    "    if '_M' in col:\n",
    "        samples_all[col] *= 317.8"
   ]
  },
  {
   "cell_type": "code",
   "execution_count": 259,
   "metadata": {},
   "outputs": [
    {
     "data": {
      "text/plain": [
       "364"
      ]
     },
     "execution_count": 259,
     "metadata": {},
     "output_type": "execute_result"
    }
   ],
   "source": [
    "len(good_cols)"
   ]
  },
  {
   "cell_type": "code",
   "execution_count": 260,
   "metadata": {},
   "outputs": [],
   "source": [
    "hierarchical = Hierarchy(samples_all[good_cols], completey_all)"
   ]
  },
  {
   "cell_type": "code",
   "execution_count": 261,
   "metadata": {},
   "outputs": [],
   "source": [
    "hierarchical.max_like()"
   ]
  },
  {
   "cell_type": "code",
   "execution_count": 262,
   "metadata": {},
   "outputs": [
    {
     "data": {
      "text/plain": [
       "array([[6.79851363, 0.50957014]])"
      ]
     },
     "execution_count": 262,
     "metadata": {},
     "output_type": "execute_result"
    }
   ],
   "source": [
    "hierarchical.mlvalues"
   ]
  },
  {
   "cell_type": "code",
   "execution_count": 264,
   "metadata": {
    "collapsed": true
   },
   "outputs": [
    {
     "name": "stderr",
     "output_type": "stream",
     "text": [
      "  4%|▎         | 36/1000 [00:17<08:28,  1.90it/s]Process ForkPoolWorker-62:\n",
      "Process ForkPoolWorker-54:\n",
      "Traceback (most recent call last):\n",
      "  File \"/Users/lee/anaconda/lib/python3.7/site-packages/emcee/ensemble.py\", line 545, in __call__\n",
      "    return self.f(x, *self.args, **self.kwargs)\n",
      "  File \"<ipython-input-253-469f337ca0c9>\", line 155, in lnpost\n",
      "    return self.lnlike(theta) + self.lnprior(theta) # Leave out GP for now\n",
      "  File \"<ipython-input-253-469f337ca0c9>\", line 102, in lnlike\n",
      "    probs = self.completeness.interpolate(sample_a, sample_M)*self.occurrence(\n",
      "  File \"<ipython-input-67-2e452d90f6a4>\", line 72, in interpolate\n",
      "    return self.interpolator(np.array([np.atleast_1d(x), np.atleast_1d(y)]).T)\n",
      "  File \"/Users/lee/anaconda/lib/python3.7/site-packages/scipy/interpolate/interpolate.py\", line 2493, in __call__\n",
      "    out_of_bounds)\n",
      "  File \"/Users/lee/anaconda/lib/python3.7/site-packages/scipy/interpolate/interpolate.py\", line 2514, in _evaluate_linear\n",
      "    weight *= np.where(ei == i, 1 - yi, yi)\n",
      "  File \"<__array_function__ internals>\", line 2, in where\n",
      "KeyboardInterrupt\n",
      "  4%|▎         | 36/1000 [00:17<07:52,  2.04it/s]Process ForkPoolWorker-49:\n",
      "Process ForkPoolWorker-61:\n",
      "Process ForkPoolWorker-51:\n",
      "Process ForkPoolWorker-50:\n",
      "Process ForkPoolWorker-52:\n",
      "Process ForkPoolWorker-59:\n",
      "Process ForkPoolWorker-55:\n",
      "Process ForkPoolWorker-58:\n",
      "Process ForkPoolWorker-56:\n",
      "Process ForkPoolWorker-63:\n",
      "Process ForkPoolWorker-57:\n",
      "Process ForkPoolWorker-53:\n",
      "Process ForkPoolWorker-64:\n",
      "Process ForkPoolWorker-60:\n",
      "Traceback (most recent call last):\n",
      "Traceback (most recent call last):\n",
      "Traceback (most recent call last):\n",
      "Traceback (most recent call last):\n",
      "Traceback (most recent call last):\n",
      "Traceback (most recent call last):\n",
      "Traceback (most recent call last):\n",
      "Traceback (most recent call last):\n",
      "Traceback (most recent call last):\n",
      "Traceback (most recent call last):\n",
      "Traceback (most recent call last):\n",
      "Traceback (most recent call last):\n",
      "Traceback (most recent call last):\n",
      "Traceback (most recent call last):\n",
      "Traceback (most recent call last):\n",
      "Traceback (most recent call last):\n",
      "  File \"/Users/lee/anaconda/lib/python3.7/multiprocessing/process.py\", line 297, in _bootstrap\n",
      "    self.run()\n",
      "  File \"/Users/lee/anaconda/lib/python3.7/multiprocessing/process.py\", line 297, in _bootstrap\n",
      "    self.run()\n",
      "  File \"/Users/lee/anaconda/lib/python3.7/multiprocessing/process.py\", line 297, in _bootstrap\n",
      "    self.run()\n",
      "  File \"/Users/lee/anaconda/lib/python3.7/multiprocessing/process.py\", line 297, in _bootstrap\n",
      "    self.run()\n",
      "  File \"/Users/lee/anaconda/lib/python3.7/multiprocessing/process.py\", line 297, in _bootstrap\n",
      "    self.run()\n",
      "  File \"/Users/lee/anaconda/lib/python3.7/multiprocessing/process.py\", line 297, in _bootstrap\n",
      "    self.run()\n",
      "  File \"/Users/lee/anaconda/lib/python3.7/multiprocessing/process.py\", line 297, in _bootstrap\n",
      "    self.run()\n",
      "  File \"/Users/lee/anaconda/lib/python3.7/multiprocessing/process.py\", line 297, in _bootstrap\n",
      "    self.run()\n",
      "  File \"/Users/lee/anaconda/lib/python3.7/multiprocessing/process.py\", line 297, in _bootstrap\n",
      "    self.run()\n",
      "  File \"/Users/lee/anaconda/lib/python3.7/multiprocessing/process.py\", line 297, in _bootstrap\n",
      "    self.run()\n",
      "  File \"/Users/lee/anaconda/lib/python3.7/multiprocessing/process.py\", line 297, in _bootstrap\n",
      "    self.run()\n",
      "  File \"/Users/lee/anaconda/lib/python3.7/multiprocessing/process.py\", line 297, in _bootstrap\n",
      "    self.run()\n",
      "  File \"/Users/lee/anaconda/lib/python3.7/multiprocessing/process.py\", line 297, in _bootstrap\n",
      "    self.run()\n",
      "  File \"/Users/lee/anaconda/lib/python3.7/multiprocessing/process.py\", line 297, in _bootstrap\n",
      "    self.run()\n",
      "  File \"/Users/lee/anaconda/lib/python3.7/multiprocessing/process.py\", line 297, in _bootstrap\n",
      "    self.run()\n",
      "  File \"/Users/lee/anaconda/lib/python3.7/multiprocessing/process.py\", line 297, in _bootstrap\n",
      "    self.run()\n",
      "  File \"/Users/lee/anaconda/lib/python3.7/multiprocessing/process.py\", line 99, in run\n",
      "    self._target(*self._args, **self._kwargs)\n",
      "  File \"/Users/lee/anaconda/lib/python3.7/multiprocessing/process.py\", line 99, in run\n",
      "    self._target(*self._args, **self._kwargs)\n",
      "  File \"/Users/lee/anaconda/lib/python3.7/multiprocessing/process.py\", line 99, in run\n",
      "    self._target(*self._args, **self._kwargs)\n",
      "  File \"/Users/lee/anaconda/lib/python3.7/multiprocessing/process.py\", line 99, in run\n",
      "    self._target(*self._args, **self._kwargs)\n",
      "  File \"/Users/lee/anaconda/lib/python3.7/multiprocessing/process.py\", line 99, in run\n",
      "    self._target(*self._args, **self._kwargs)\n",
      "  File \"/Users/lee/anaconda/lib/python3.7/multiprocessing/process.py\", line 99, in run\n",
      "    self._target(*self._args, **self._kwargs)\n",
      "  File \"/Users/lee/anaconda/lib/python3.7/multiprocessing/process.py\", line 99, in run\n",
      "    self._target(*self._args, **self._kwargs)\n",
      "  File \"/Users/lee/anaconda/lib/python3.7/multiprocessing/process.py\", line 99, in run\n",
      "    self._target(*self._args, **self._kwargs)\n",
      "  File \"/Users/lee/anaconda/lib/python3.7/multiprocessing/process.py\", line 99, in run\n",
      "    self._target(*self._args, **self._kwargs)\n",
      "  File \"/Users/lee/anaconda/lib/python3.7/multiprocessing/process.py\", line 99, in run\n",
      "    self._target(*self._args, **self._kwargs)\n",
      "  File \"/Users/lee/anaconda/lib/python3.7/multiprocessing/process.py\", line 99, in run\n",
      "    self._target(*self._args, **self._kwargs)\n",
      "  File \"/Users/lee/anaconda/lib/python3.7/multiprocessing/process.py\", line 99, in run\n",
      "    self._target(*self._args, **self._kwargs)\n",
      "  File \"/Users/lee/anaconda/lib/python3.7/multiprocessing/process.py\", line 99, in run\n",
      "    self._target(*self._args, **self._kwargs)\n",
      "  File \"/Users/lee/anaconda/lib/python3.7/multiprocessing/process.py\", line 99, in run\n",
      "    self._target(*self._args, **self._kwargs)\n",
      "  File \"/Users/lee/anaconda/lib/python3.7/multiprocessing/process.py\", line 99, in run\n",
      "    self._target(*self._args, **self._kwargs)\n",
      "  File \"/Users/lee/anaconda/lib/python3.7/multiprocessing/process.py\", line 99, in run\n",
      "    self._target(*self._args, **self._kwargs)\n",
      "  File \"/Users/lee/anaconda/lib/python3.7/multiprocessing/pool.py\", line 110, in worker\n",
      "    task = get()\n",
      "  File \"/Users/lee/anaconda/lib/python3.7/multiprocessing/pool.py\", line 110, in worker\n",
      "    task = get()\n",
      "  File \"/Users/lee/anaconda/lib/python3.7/multiprocessing/pool.py\", line 110, in worker\n",
      "    task = get()\n",
      "  File \"/Users/lee/anaconda/lib/python3.7/multiprocessing/pool.py\", line 110, in worker\n",
      "    task = get()\n",
      "  File \"/Users/lee/anaconda/lib/python3.7/multiprocessing/pool.py\", line 110, in worker\n",
      "    task = get()\n",
      "  File \"/Users/lee/anaconda/lib/python3.7/multiprocessing/pool.py\", line 110, in worker\n",
      "    task = get()\n",
      "  File \"/Users/lee/anaconda/lib/python3.7/multiprocessing/pool.py\", line 110, in worker\n",
      "    task = get()\n",
      "  File \"/Users/lee/anaconda/lib/python3.7/multiprocessing/pool.py\", line 110, in worker\n",
      "    task = get()\n",
      "  File \"/Users/lee/anaconda/lib/python3.7/multiprocessing/pool.py\", line 110, in worker\n",
      "    task = get()\n",
      "  File \"/Users/lee/anaconda/lib/python3.7/multiprocessing/pool.py\", line 110, in worker\n",
      "    task = get()\n",
      "  File \"/Users/lee/anaconda/lib/python3.7/multiprocessing/pool.py\", line 110, in worker\n",
      "    task = get()\n",
      "  File \"/Users/lee/anaconda/lib/python3.7/multiprocessing/pool.py\", line 110, in worker\n",
      "    task = get()\n",
      "  File \"/Users/lee/anaconda/lib/python3.7/multiprocessing/pool.py\", line 110, in worker\n",
      "    task = get()\n",
      "  File \"/Users/lee/anaconda/lib/python3.7/multiprocessing/pool.py\", line 110, in worker\n",
      "    task = get()\n",
      "  File \"/Users/lee/anaconda/lib/python3.7/multiprocessing/pool.py\", line 110, in worker\n",
      "    task = get()\n",
      "  File \"/Users/lee/anaconda/lib/python3.7/multiprocessing/pool.py\", line 110, in worker\n",
      "    task = get()\n",
      "  File \"/Users/lee/anaconda/lib/python3.7/multiprocessing/queues.py\", line 351, in get\n",
      "    with self._rlock:\n",
      "  File \"/Users/lee/anaconda/lib/python3.7/multiprocessing/queues.py\", line 351, in get\n",
      "    with self._rlock:\n",
      "  File \"/Users/lee/anaconda/lib/python3.7/multiprocessing/queues.py\", line 351, in get\n",
      "    with self._rlock:\n",
      "  File \"/Users/lee/anaconda/lib/python3.7/multiprocessing/queues.py\", line 351, in get\n",
      "    with self._rlock:\n",
      "  File \"/Users/lee/anaconda/lib/python3.7/multiprocessing/queues.py\", line 351, in get\n",
      "    with self._rlock:\n",
      "  File \"/Users/lee/anaconda/lib/python3.7/multiprocessing/queues.py\", line 351, in get\n",
      "    with self._rlock:\n"
     ]
    },
    {
     "name": "stderr",
     "output_type": "stream",
     "text": [
      "  File \"/Users/lee/anaconda/lib/python3.7/multiprocessing/queues.py\", line 351, in get\n",
      "    with self._rlock:\n",
      "  File \"/Users/lee/anaconda/lib/python3.7/multiprocessing/queues.py\", line 351, in get\n",
      "    with self._rlock:\n",
      "  File \"/Users/lee/anaconda/lib/python3.7/multiprocessing/queues.py\", line 351, in get\n",
      "    with self._rlock:\n",
      "  File \"/Users/lee/anaconda/lib/python3.7/multiprocessing/queues.py\", line 351, in get\n",
      "    with self._rlock:\n",
      "  File \"/Users/lee/anaconda/lib/python3.7/multiprocessing/queues.py\", line 351, in get\n",
      "    with self._rlock:\n",
      "  File \"/Users/lee/anaconda/lib/python3.7/multiprocessing/queues.py\", line 351, in get\n",
      "    with self._rlock:\n",
      "  File \"/Users/lee/anaconda/lib/python3.7/multiprocessing/queues.py\", line 351, in get\n",
      "    with self._rlock:\n",
      "  File \"/Users/lee/anaconda/lib/python3.7/multiprocessing/queues.py\", line 351, in get\n",
      "    with self._rlock:\n",
      "  File \"/Users/lee/anaconda/lib/python3.7/multiprocessing/queues.py\", line 351, in get\n",
      "    with self._rlock:\n",
      "  File \"/Users/lee/anaconda/lib/python3.7/multiprocessing/queues.py\", line 352, in get\n",
      "    res = self._reader.recv_bytes()\n",
      "  File \"/Users/lee/anaconda/lib/python3.7/multiprocessing/synchronize.py\", line 95, in __enter__\n",
      "    return self._semlock.__enter__()\n",
      "  File \"/Users/lee/anaconda/lib/python3.7/multiprocessing/synchronize.py\", line 95, in __enter__\n",
      "    return self._semlock.__enter__()\n",
      "  File \"/Users/lee/anaconda/lib/python3.7/multiprocessing/synchronize.py\", line 95, in __enter__\n",
      "    return self._semlock.__enter__()\n",
      "  File \"/Users/lee/anaconda/lib/python3.7/multiprocessing/synchronize.py\", line 95, in __enter__\n",
      "    return self._semlock.__enter__()\n",
      "  File \"/Users/lee/anaconda/lib/python3.7/multiprocessing/synchronize.py\", line 95, in __enter__\n",
      "    return self._semlock.__enter__()\n",
      "  File \"/Users/lee/anaconda/lib/python3.7/multiprocessing/synchronize.py\", line 95, in __enter__\n",
      "    return self._semlock.__enter__()\n",
      "  File \"/Users/lee/anaconda/lib/python3.7/multiprocessing/synchronize.py\", line 95, in __enter__\n",
      "    return self._semlock.__enter__()\n",
      "  File \"/Users/lee/anaconda/lib/python3.7/multiprocessing/synchronize.py\", line 95, in __enter__\n",
      "    return self._semlock.__enter__()\n",
      "  File \"/Users/lee/anaconda/lib/python3.7/multiprocessing/synchronize.py\", line 95, in __enter__\n",
      "    return self._semlock.__enter__()\n",
      "  File \"/Users/lee/anaconda/lib/python3.7/multiprocessing/synchronize.py\", line 95, in __enter__\n",
      "    return self._semlock.__enter__()\n",
      "  File \"/Users/lee/anaconda/lib/python3.7/multiprocessing/synchronize.py\", line 95, in __enter__\n",
      "    return self._semlock.__enter__()\n",
      "  File \"/Users/lee/anaconda/lib/python3.7/multiprocessing/synchronize.py\", line 95, in __enter__\n",
      "    return self._semlock.__enter__()\n",
      "  File \"/Users/lee/anaconda/lib/python3.7/multiprocessing/synchronize.py\", line 95, in __enter__\n",
      "    return self._semlock.__enter__()\n",
      "  File \"/Users/lee/anaconda/lib/python3.7/multiprocessing/synchronize.py\", line 95, in __enter__\n",
      "    return self._semlock.__enter__()\n",
      "  File \"/Users/lee/anaconda/lib/python3.7/multiprocessing/synchronize.py\", line 95, in __enter__\n",
      "    return self._semlock.__enter__()\n",
      "KeyboardInterrupt\n",
      "KeyboardInterrupt\n",
      "  File \"/Users/lee/anaconda/lib/python3.7/multiprocessing/connection.py\", line 216, in recv_bytes\n",
      "    buf = self._recv_bytes(maxlength)\n",
      "KeyboardInterrupt\n",
      "KeyboardInterrupt\n",
      "KeyboardInterrupt\n",
      "KeyboardInterrupt\n",
      "KeyboardInterrupt\n",
      "KeyboardInterrupt\n",
      "KeyboardInterrupt\n",
      "KeyboardInterrupt\n",
      "KeyboardInterrupt\n",
      "KeyboardInterrupt\n",
      "KeyboardInterrupt\n",
      "KeyboardInterrupt\n",
      "KeyboardInterrupt\n",
      "  File \"/Users/lee/anaconda/lib/python3.7/multiprocessing/connection.py\", line 407, in _recv_bytes\n",
      "    buf = self._recv(4)\n",
      "  File \"/Users/lee/anaconda/lib/python3.7/multiprocessing/connection.py\", line 379, in _recv\n",
      "    chunk = read(handle, remaining)\n",
      "KeyboardInterrupt\n"
     ]
    },
    {
     "name": "stdout",
     "output_type": "stream",
     "text": [
      "emcee: Exception while calling your likelihood function:\n",
      "  params: [7.70405239]\n",
      "  args: []\n",
      "  kwargs: {}\n",
      "  exception:\n"
     ]
    },
    {
     "name": "stderr",
     "output_type": "stream",
     "text": [
      "\n"
     ]
    },
    {
     "ename": "KeyboardInterrupt",
     "evalue": "",
     "output_type": "error",
     "traceback": [
      "\u001b[0;31m---------------------------------------------------------------------------\u001b[0m",
      "\u001b[0;31mKeyboardInterrupt\u001b[0m                         Traceback (most recent call last)",
      "\u001b[0;32m<ipython-input-264-7405bc7d8190>\u001b[0m in \u001b[0;36m<module>\u001b[0;34m\u001b[0m\n\u001b[0;32m----> 1\u001b[0;31m \u001b[0mhierarchical\u001b[0m\u001b[0;34m.\u001b[0m\u001b[0msample\u001b[0m\u001b[0;34m(\u001b[0m\u001b[0mparallel\u001b[0m\u001b[0;34m=\u001b[0m\u001b[0;32mTrue\u001b[0m\u001b[0;34m)\u001b[0m\u001b[0;34m\u001b[0m\u001b[0;34m\u001b[0m\u001b[0m\n\u001b[0m",
      "\u001b[0;32m<ipython-input-253-469f337ca0c9>\u001b[0m in \u001b[0;36msample\u001b[0;34m(self, gp, parallel)\u001b[0m\n\u001b[1;32m    167\u001b[0m             \u001b[0;32mwith\u001b[0m \u001b[0mPool\u001b[0m\u001b[0;34m(\u001b[0m\u001b[0;34m)\u001b[0m \u001b[0;32mas\u001b[0m \u001b[0mpool\u001b[0m\u001b[0;34m:\u001b[0m\u001b[0;34m\u001b[0m\u001b[0;34m\u001b[0m\u001b[0m\n\u001b[1;32m    168\u001b[0m                 \u001b[0mself\u001b[0m\u001b[0;34m.\u001b[0m\u001b[0msampler\u001b[0m \u001b[0;34m=\u001b[0m \u001b[0memcee\u001b[0m\u001b[0;34m.\u001b[0m\u001b[0mEnsembleSampler\u001b[0m\u001b[0;34m(\u001b[0m\u001b[0mnwalkers\u001b[0m\u001b[0;34m,\u001b[0m \u001b[0mndim\u001b[0m\u001b[0;34m,\u001b[0m \u001b[0mself\u001b[0m\u001b[0;34m.\u001b[0m\u001b[0mlnpost\u001b[0m\u001b[0;34m,\u001b[0m \u001b[0mpool\u001b[0m\u001b[0;34m=\u001b[0m\u001b[0mpool\u001b[0m\u001b[0;34m)\u001b[0m\u001b[0;34m\u001b[0m\u001b[0;34m\u001b[0m\u001b[0m\n\u001b[0;32m--> 169\u001b[0;31m                 \u001b[0mself\u001b[0m\u001b[0;34m.\u001b[0m\u001b[0msampler\u001b[0m\u001b[0;34m.\u001b[0m\u001b[0mrun_mcmc\u001b[0m\u001b[0;34m(\u001b[0m\u001b[0mpos\u001b[0m\u001b[0;34m,\u001b[0m \u001b[0;36m1000\u001b[0m\u001b[0;34m,\u001b[0m \u001b[0mprogress\u001b[0m\u001b[0;34m=\u001b[0m\u001b[0;32mTrue\u001b[0m\u001b[0;34m)\u001b[0m\u001b[0;34m\u001b[0m\u001b[0;34m\u001b[0m\u001b[0m\n\u001b[0m\u001b[1;32m    170\u001b[0m                 \u001b[0mself\u001b[0m\u001b[0;34m.\u001b[0m\u001b[0mchains\u001b[0m \u001b[0;34m=\u001b[0m \u001b[0mself\u001b[0m\u001b[0;34m.\u001b[0m\u001b[0msampler\u001b[0m\u001b[0;34m.\u001b[0m\u001b[0mchain\u001b[0m\u001b[0;34m[\u001b[0m\u001b[0;34m:\u001b[0m\u001b[0;34m,\u001b[0m \u001b[0;36m50\u001b[0m\u001b[0;34m:\u001b[0m\u001b[0;34m,\u001b[0m \u001b[0;34m:\u001b[0m\u001b[0;34m]\u001b[0m\u001b[0;34m.\u001b[0m\u001b[0mreshape\u001b[0m\u001b[0;34m(\u001b[0m\u001b[0;34m(\u001b[0m\u001b[0;34m-\u001b[0m\u001b[0;36m1\u001b[0m\u001b[0;34m,\u001b[0m \u001b[0mndim\u001b[0m\u001b[0;34m)\u001b[0m\u001b[0;34m)\u001b[0m\u001b[0;34m\u001b[0m\u001b[0;34m\u001b[0m\u001b[0m\n\u001b[1;32m    171\u001b[0m         \u001b[0;32melse\u001b[0m\u001b[0;34m:\u001b[0m\u001b[0;34m\u001b[0m\u001b[0;34m\u001b[0m\u001b[0m\n",
      "\u001b[0;32m~/anaconda/lib/python3.7/site-packages/emcee/ensemble.py\u001b[0m in \u001b[0;36mrun_mcmc\u001b[0;34m(self, initial_state, nsteps, **kwargs)\u001b[0m\n\u001b[1;32m    382\u001b[0m \u001b[0;34m\u001b[0m\u001b[0m\n\u001b[1;32m    383\u001b[0m         \u001b[0mresults\u001b[0m \u001b[0;34m=\u001b[0m \u001b[0;32mNone\u001b[0m\u001b[0;34m\u001b[0m\u001b[0;34m\u001b[0m\u001b[0m\n\u001b[0;32m--> 384\u001b[0;31m         \u001b[0;32mfor\u001b[0m \u001b[0mresults\u001b[0m \u001b[0;32min\u001b[0m \u001b[0mself\u001b[0m\u001b[0;34m.\u001b[0m\u001b[0msample\u001b[0m\u001b[0;34m(\u001b[0m\u001b[0minitial_state\u001b[0m\u001b[0;34m,\u001b[0m \u001b[0miterations\u001b[0m\u001b[0;34m=\u001b[0m\u001b[0mnsteps\u001b[0m\u001b[0;34m,\u001b[0m \u001b[0;34m**\u001b[0m\u001b[0mkwargs\u001b[0m\u001b[0;34m)\u001b[0m\u001b[0;34m:\u001b[0m\u001b[0;34m\u001b[0m\u001b[0;34m\u001b[0m\u001b[0m\n\u001b[0m\u001b[1;32m    385\u001b[0m             \u001b[0;32mpass\u001b[0m\u001b[0;34m\u001b[0m\u001b[0;34m\u001b[0m\u001b[0m\n\u001b[1;32m    386\u001b[0m \u001b[0;34m\u001b[0m\u001b[0m\n",
      "\u001b[0;32m~/anaconda/lib/python3.7/site-packages/emcee/ensemble.py\u001b[0m in \u001b[0;36msample\u001b[0;34m(self, initial_state, log_prob0, rstate0, blobs0, iterations, tune, skip_initial_state_check, thin_by, thin, store, progress)\u001b[0m\n\u001b[1;32m    341\u001b[0m \u001b[0;34m\u001b[0m\u001b[0m\n\u001b[1;32m    342\u001b[0m                     \u001b[0;31m# Propose\u001b[0m\u001b[0;34m\u001b[0m\u001b[0;34m\u001b[0m\u001b[0;34m\u001b[0m\u001b[0m\n\u001b[0;32m--> 343\u001b[0;31m                     \u001b[0mstate\u001b[0m\u001b[0;34m,\u001b[0m \u001b[0maccepted\u001b[0m \u001b[0;34m=\u001b[0m \u001b[0mmove\u001b[0m\u001b[0;34m.\u001b[0m\u001b[0mpropose\u001b[0m\u001b[0;34m(\u001b[0m\u001b[0mmodel\u001b[0m\u001b[0;34m,\u001b[0m \u001b[0mstate\u001b[0m\u001b[0;34m)\u001b[0m\u001b[0;34m\u001b[0m\u001b[0;34m\u001b[0m\u001b[0m\n\u001b[0m\u001b[1;32m    344\u001b[0m                     \u001b[0mstate\u001b[0m\u001b[0;34m.\u001b[0m\u001b[0mrandom_state\u001b[0m \u001b[0;34m=\u001b[0m \u001b[0mself\u001b[0m\u001b[0;34m.\u001b[0m\u001b[0mrandom_state\u001b[0m\u001b[0;34m\u001b[0m\u001b[0;34m\u001b[0m\u001b[0m\n\u001b[1;32m    345\u001b[0m \u001b[0;34m\u001b[0m\u001b[0m\n",
      "\u001b[0;32m~/anaconda/lib/python3.7/site-packages/emcee/moves/red_blue.py\u001b[0m in \u001b[0;36mpropose\u001b[0;34m(self, model, state)\u001b[0m\n\u001b[1;32m     91\u001b[0m \u001b[0;34m\u001b[0m\u001b[0m\n\u001b[1;32m     92\u001b[0m             \u001b[0;31m# Compute the lnprobs of the proposed position.\u001b[0m\u001b[0;34m\u001b[0m\u001b[0;34m\u001b[0m\u001b[0;34m\u001b[0m\u001b[0m\n\u001b[0;32m---> 93\u001b[0;31m             \u001b[0mnew_log_probs\u001b[0m\u001b[0;34m,\u001b[0m \u001b[0mnew_blobs\u001b[0m \u001b[0;34m=\u001b[0m \u001b[0mmodel\u001b[0m\u001b[0;34m.\u001b[0m\u001b[0mcompute_log_prob_fn\u001b[0m\u001b[0;34m(\u001b[0m\u001b[0mq\u001b[0m\u001b[0;34m)\u001b[0m\u001b[0;34m\u001b[0m\u001b[0;34m\u001b[0m\u001b[0m\n\u001b[0m\u001b[1;32m     94\u001b[0m \u001b[0;34m\u001b[0m\u001b[0m\n\u001b[1;32m     95\u001b[0m             \u001b[0;31m# Loop over the walkers and update them accordingly.\u001b[0m\u001b[0;34m\u001b[0m\u001b[0;34m\u001b[0m\u001b[0;34m\u001b[0m\u001b[0m\n",
      "\u001b[0;32m~/anaconda/lib/python3.7/site-packages/emcee/ensemble.py\u001b[0m in \u001b[0;36mcompute_log_prob\u001b[0;34m(self, coords)\u001b[0m\n\u001b[1;32m    425\u001b[0m                 \u001b[0mmap_func\u001b[0m \u001b[0;34m=\u001b[0m \u001b[0mmap\u001b[0m\u001b[0;34m\u001b[0m\u001b[0;34m\u001b[0m\u001b[0m\n\u001b[1;32m    426\u001b[0m             results = list(\n\u001b[0;32m--> 427\u001b[0;31m                 \u001b[0mmap_func\u001b[0m\u001b[0;34m(\u001b[0m\u001b[0mself\u001b[0m\u001b[0;34m.\u001b[0m\u001b[0mlog_prob_fn\u001b[0m\u001b[0;34m,\u001b[0m \u001b[0;34m(\u001b[0m\u001b[0mp\u001b[0m\u001b[0;34m[\u001b[0m\u001b[0mi\u001b[0m\u001b[0;34m]\u001b[0m \u001b[0;32mfor\u001b[0m \u001b[0mi\u001b[0m \u001b[0;32min\u001b[0m \u001b[0mrange\u001b[0m\u001b[0;34m(\u001b[0m\u001b[0mlen\u001b[0m\u001b[0;34m(\u001b[0m\u001b[0mp\u001b[0m\u001b[0;34m)\u001b[0m\u001b[0;34m)\u001b[0m\u001b[0;34m)\u001b[0m\u001b[0;34m)\u001b[0m\u001b[0;34m\u001b[0m\u001b[0;34m\u001b[0m\u001b[0m\n\u001b[0m\u001b[1;32m    428\u001b[0m             )\n\u001b[1;32m    429\u001b[0m \u001b[0;34m\u001b[0m\u001b[0m\n",
      "\u001b[0;32m~/anaconda/lib/python3.7/site-packages/emcee/ensemble.py\u001b[0m in \u001b[0;36m__call__\u001b[0;34m(self, x)\u001b[0m\n\u001b[1;32m    543\u001b[0m     \u001b[0;32mdef\u001b[0m \u001b[0m__call__\u001b[0m\u001b[0;34m(\u001b[0m\u001b[0mself\u001b[0m\u001b[0;34m,\u001b[0m \u001b[0mx\u001b[0m\u001b[0;34m)\u001b[0m\u001b[0;34m:\u001b[0m\u001b[0;34m\u001b[0m\u001b[0;34m\u001b[0m\u001b[0m\n\u001b[1;32m    544\u001b[0m         \u001b[0;32mtry\u001b[0m\u001b[0;34m:\u001b[0m\u001b[0;34m\u001b[0m\u001b[0;34m\u001b[0m\u001b[0m\n\u001b[0;32m--> 545\u001b[0;31m             \u001b[0;32mreturn\u001b[0m \u001b[0mself\u001b[0m\u001b[0;34m.\u001b[0m\u001b[0mf\u001b[0m\u001b[0;34m(\u001b[0m\u001b[0mx\u001b[0m\u001b[0;34m,\u001b[0m \u001b[0;34m*\u001b[0m\u001b[0mself\u001b[0m\u001b[0;34m.\u001b[0m\u001b[0margs\u001b[0m\u001b[0;34m,\u001b[0m \u001b[0;34m**\u001b[0m\u001b[0mself\u001b[0m\u001b[0;34m.\u001b[0m\u001b[0mkwargs\u001b[0m\u001b[0;34m)\u001b[0m\u001b[0;34m\u001b[0m\u001b[0;34m\u001b[0m\u001b[0m\n\u001b[0m\u001b[1;32m    546\u001b[0m         \u001b[0;32mexcept\u001b[0m\u001b[0;34m:\u001b[0m  \u001b[0;31m# pragma: no cover\u001b[0m\u001b[0;34m\u001b[0m\u001b[0;34m\u001b[0m\u001b[0m\n\u001b[1;32m    547\u001b[0m             \u001b[0;32mimport\u001b[0m \u001b[0mtraceback\u001b[0m\u001b[0;34m\u001b[0m\u001b[0;34m\u001b[0m\u001b[0m\n",
      "\u001b[0;32m<ipython-input-253-469f337ca0c9>\u001b[0m in \u001b[0;36mlnpost\u001b[0;34m(self, theta)\u001b[0m\n\u001b[1;32m    153\u001b[0m \u001b[0;34m\u001b[0m\u001b[0m\n\u001b[1;32m    154\u001b[0m     \u001b[0;32mdef\u001b[0m \u001b[0mlnpost\u001b[0m\u001b[0;34m(\u001b[0m\u001b[0mself\u001b[0m\u001b[0;34m,\u001b[0m \u001b[0mtheta\u001b[0m\u001b[0;34m)\u001b[0m\u001b[0;34m:\u001b[0m\u001b[0;34m\u001b[0m\u001b[0;34m\u001b[0m\u001b[0m\n\u001b[0;32m--> 155\u001b[0;31m         \u001b[0;32mreturn\u001b[0m \u001b[0mself\u001b[0m\u001b[0;34m.\u001b[0m\u001b[0mlnlike\u001b[0m\u001b[0;34m(\u001b[0m\u001b[0mtheta\u001b[0m\u001b[0;34m)\u001b[0m \u001b[0;34m+\u001b[0m \u001b[0mself\u001b[0m\u001b[0;34m.\u001b[0m\u001b[0mlnprior\u001b[0m\u001b[0;34m(\u001b[0m\u001b[0mtheta\u001b[0m\u001b[0;34m)\u001b[0m \u001b[0;31m# Leave out GP for now\u001b[0m\u001b[0;34m\u001b[0m\u001b[0;34m\u001b[0m\u001b[0m\n\u001b[0m\u001b[1;32m    156\u001b[0m \u001b[0;34m\u001b[0m\u001b[0m\n\u001b[1;32m    157\u001b[0m     \u001b[0;32mdef\u001b[0m \u001b[0msample\u001b[0m\u001b[0;34m(\u001b[0m\u001b[0mself\u001b[0m\u001b[0;34m,\u001b[0m \u001b[0mgp\u001b[0m\u001b[0;34m=\u001b[0m\u001b[0;32mFalse\u001b[0m\u001b[0;34m,\u001b[0m \u001b[0mparallel\u001b[0m\u001b[0;34m=\u001b[0m\u001b[0;32mFalse\u001b[0m\u001b[0;34m)\u001b[0m\u001b[0;34m:\u001b[0m\u001b[0;34m\u001b[0m\u001b[0;34m\u001b[0m\u001b[0m\n",
      "\u001b[0;32m<ipython-input-253-469f337ca0c9>\u001b[0m in \u001b[0;36mlnlike\u001b[0;34m(self, theta)\u001b[0m\n\u001b[1;32m    100\u001b[0m             \u001b[0msample_a\u001b[0m \u001b[0;34m=\u001b[0m \u001b[0mnp\u001b[0m\u001b[0;34m.\u001b[0m\u001b[0marray\u001b[0m\u001b[0;34m(\u001b[0m\u001b[0mself\u001b[0m\u001b[0;34m.\u001b[0m\u001b[0mpop\u001b[0m\u001b[0;34m[\u001b[0m\u001b[0mplanet\u001b[0m\u001b[0;34m[\u001b[0m\u001b[0;34m:\u001b[0m\u001b[0;34m-\u001b[0m\u001b[0;36m2\u001b[0m\u001b[0;34m]\u001b[0m \u001b[0;34m+\u001b[0m \u001b[0;34m'_a'\u001b[0m \u001b[0;34m+\u001b[0m \u001b[0mplanet\u001b[0m\u001b[0;34m[\u001b[0m\u001b[0;34m-\u001b[0m\u001b[0;36m1\u001b[0m\u001b[0;34m]\u001b[0m\u001b[0;34m]\u001b[0m\u001b[0;34m)\u001b[0m\u001b[0;34m\u001b[0m\u001b[0;34m\u001b[0m\u001b[0m\n\u001b[1;32m    101\u001b[0m             \u001b[0msample_M\u001b[0m \u001b[0;34m=\u001b[0m \u001b[0mnp\u001b[0m\u001b[0;34m.\u001b[0m\u001b[0marray\u001b[0m\u001b[0;34m(\u001b[0m\u001b[0mself\u001b[0m\u001b[0;34m.\u001b[0m\u001b[0mpop\u001b[0m\u001b[0;34m[\u001b[0m\u001b[0mplanet\u001b[0m\u001b[0;34m[\u001b[0m\u001b[0;34m:\u001b[0m\u001b[0;34m-\u001b[0m\u001b[0;36m2\u001b[0m\u001b[0;34m]\u001b[0m \u001b[0;34m+\u001b[0m \u001b[0;34m'_M'\u001b[0m \u001b[0;34m+\u001b[0m \u001b[0mplanet\u001b[0m\u001b[0;34m[\u001b[0m\u001b[0;34m-\u001b[0m\u001b[0;36m1\u001b[0m\u001b[0;34m]\u001b[0m\u001b[0;34m]\u001b[0m\u001b[0;34m)\u001b[0m\u001b[0;34m\u001b[0m\u001b[0;34m\u001b[0m\u001b[0m\n\u001b[0;32m--> 102\u001b[0;31m             probs = self.completeness.interpolate(sample_a, sample_M)*self.occurrence(\n\u001b[0m\u001b[1;32m    103\u001b[0m                                            np.log(sample_a), np.log(sample_M), theta)\n\u001b[1;32m    104\u001b[0m             \u001b[0msums\u001b[0m\u001b[0;34m.\u001b[0m\u001b[0mappend\u001b[0m\u001b[0;34m(\u001b[0m\u001b[0mnp\u001b[0m\u001b[0;34m.\u001b[0m\u001b[0msum\u001b[0m\u001b[0;34m(\u001b[0m\u001b[0mprobs\u001b[0m\u001b[0;34m)\u001b[0m\u001b[0;34m)\u001b[0m\u001b[0;34m\u001b[0m\u001b[0;34m\u001b[0m\u001b[0m\n",
      "\u001b[0;32m<ipython-input-67-2e452d90f6a4>\u001b[0m in \u001b[0;36minterpolate\u001b[0;34m(self, x, y, refresh)\u001b[0m\n\u001b[1;32m     70\u001b[0m                                                         bounds_error=False, fill_value=0.01) # Maybe don't set fill\n\u001b[1;32m     71\u001b[0m \u001b[0;34m\u001b[0m\u001b[0m\n\u001b[0;32m---> 72\u001b[0;31m         \u001b[0;32mreturn\u001b[0m \u001b[0mself\u001b[0m\u001b[0;34m.\u001b[0m\u001b[0minterpolator\u001b[0m\u001b[0;34m(\u001b[0m\u001b[0mnp\u001b[0m\u001b[0;34m.\u001b[0m\u001b[0marray\u001b[0m\u001b[0;34m(\u001b[0m\u001b[0;34m[\u001b[0m\u001b[0mnp\u001b[0m\u001b[0;34m.\u001b[0m\u001b[0matleast_1d\u001b[0m\u001b[0;34m(\u001b[0m\u001b[0mx\u001b[0m\u001b[0;34m)\u001b[0m\u001b[0;34m,\u001b[0m \u001b[0mnp\u001b[0m\u001b[0;34m.\u001b[0m\u001b[0matleast_1d\u001b[0m\u001b[0;34m(\u001b[0m\u001b[0my\u001b[0m\u001b[0;34m)\u001b[0m\u001b[0;34m]\u001b[0m\u001b[0;34m)\u001b[0m\u001b[0;34m.\u001b[0m\u001b[0mT\u001b[0m\u001b[0;34m)\u001b[0m\u001b[0;34m\u001b[0m\u001b[0;34m\u001b[0m\u001b[0m\n\u001b[0m",
      "\u001b[0;32m~/anaconda/lib/python3.7/site-packages/scipy/interpolate/interpolate.py\u001b[0m in \u001b[0;36m__call__\u001b[0;34m(self, xi, method)\u001b[0m\n\u001b[1;32m   2491\u001b[0m             result = self._evaluate_linear(indices,\n\u001b[1;32m   2492\u001b[0m                                            \u001b[0mnorm_distances\u001b[0m\u001b[0;34m,\u001b[0m\u001b[0;34m\u001b[0m\u001b[0;34m\u001b[0m\u001b[0m\n\u001b[0;32m-> 2493\u001b[0;31m                                            out_of_bounds)\n\u001b[0m\u001b[1;32m   2494\u001b[0m         \u001b[0;32melif\u001b[0m \u001b[0mmethod\u001b[0m \u001b[0;34m==\u001b[0m \u001b[0;34m\"nearest\"\u001b[0m\u001b[0;34m:\u001b[0m\u001b[0;34m\u001b[0m\u001b[0;34m\u001b[0m\u001b[0m\n\u001b[1;32m   2495\u001b[0m             result = self._evaluate_nearest(indices,\n",
      "\u001b[0;32m~/anaconda/lib/python3.7/site-packages/scipy/interpolate/interpolate.py\u001b[0m in \u001b[0;36m_evaluate_linear\u001b[0;34m(self, indices, norm_distances, out_of_bounds)\u001b[0m\n\u001b[1;32m   2512\u001b[0m             \u001b[0mweight\u001b[0m \u001b[0;34m=\u001b[0m \u001b[0;36m1.\u001b[0m\u001b[0;34m\u001b[0m\u001b[0;34m\u001b[0m\u001b[0m\n\u001b[1;32m   2513\u001b[0m             \u001b[0;32mfor\u001b[0m \u001b[0mei\u001b[0m\u001b[0;34m,\u001b[0m \u001b[0mi\u001b[0m\u001b[0;34m,\u001b[0m \u001b[0myi\u001b[0m \u001b[0;32min\u001b[0m \u001b[0mzip\u001b[0m\u001b[0;34m(\u001b[0m\u001b[0medge_indices\u001b[0m\u001b[0;34m,\u001b[0m \u001b[0mindices\u001b[0m\u001b[0;34m,\u001b[0m \u001b[0mnorm_distances\u001b[0m\u001b[0;34m)\u001b[0m\u001b[0;34m:\u001b[0m\u001b[0;34m\u001b[0m\u001b[0;34m\u001b[0m\u001b[0m\n\u001b[0;32m-> 2514\u001b[0;31m                 \u001b[0mweight\u001b[0m \u001b[0;34m*=\u001b[0m \u001b[0mnp\u001b[0m\u001b[0;34m.\u001b[0m\u001b[0mwhere\u001b[0m\u001b[0;34m(\u001b[0m\u001b[0mei\u001b[0m \u001b[0;34m==\u001b[0m \u001b[0mi\u001b[0m\u001b[0;34m,\u001b[0m \u001b[0;36m1\u001b[0m \u001b[0;34m-\u001b[0m \u001b[0myi\u001b[0m\u001b[0;34m,\u001b[0m \u001b[0myi\u001b[0m\u001b[0;34m)\u001b[0m\u001b[0;34m\u001b[0m\u001b[0;34m\u001b[0m\u001b[0m\n\u001b[0m\u001b[1;32m   2515\u001b[0m             \u001b[0mvalues\u001b[0m \u001b[0;34m+=\u001b[0m \u001b[0mnp\u001b[0m\u001b[0;34m.\u001b[0m\u001b[0masarray\u001b[0m\u001b[0;34m(\u001b[0m\u001b[0mself\u001b[0m\u001b[0;34m.\u001b[0m\u001b[0mvalues\u001b[0m\u001b[0;34m[\u001b[0m\u001b[0medge_indices\u001b[0m\u001b[0;34m]\u001b[0m\u001b[0;34m)\u001b[0m \u001b[0;34m*\u001b[0m \u001b[0mweight\u001b[0m\u001b[0;34m[\u001b[0m\u001b[0mvslice\u001b[0m\u001b[0;34m]\u001b[0m\u001b[0;34m\u001b[0m\u001b[0;34m\u001b[0m\u001b[0m\n\u001b[1;32m   2516\u001b[0m         \u001b[0;32mreturn\u001b[0m \u001b[0mvalues\u001b[0m\u001b[0;34m\u001b[0m\u001b[0;34m\u001b[0m\u001b[0m\n",
      "\u001b[0;32m<__array_function__ internals>\u001b[0m in \u001b[0;36mwhere\u001b[0;34m(*args, **kwargs)\u001b[0m\n",
      "\u001b[0;31mKeyboardInterrupt\u001b[0m: "
     ]
    }
   ],
   "source": [
    "hierarchical.sample(parallel=True)"
   ]
  },
  {
   "cell_type": "code",
   "execution_count": 104,
   "metadata": {},
   "outputs": [
    {
     "name": "stdout",
     "output_type": "stream",
     "text": [
      "6.932852659380194 0.511400390771193\n"
     ]
    }
   ],
   "source": [
    "print(np.median(hierarchical.chains), np.std(hierarchical.chains))"
   ]
  },
  {
   "cell_type": "code",
   "execution_count": 188,
   "metadata": {
    "collapsed": true
   },
   "outputs": [
    {
     "ename": "AttributeError",
     "evalue": "'Hierarchy' object has no attribute 'chains'",
     "output_type": "error",
     "traceback": [
      "\u001b[0;31m---------------------------------------------------------------------------\u001b[0m",
      "\u001b[0;31mAttributeError\u001b[0m                            Traceback (most recent call last)",
      "\u001b[0;32m<ipython-input-188-17f97592042e>\u001b[0m in \u001b[0;36m<module>\u001b[0;34m\u001b[0m\n\u001b[0;32m----> 1\u001b[0;31m fig = corner.corner(hierarchical.chains[1000:], labels=[r'$\\Gamma_{\\mathrm{all}}$'],\n\u001b[0m\u001b[1;32m      2\u001b[0m                       truths=[hierarchical.mlvalues[0, 0]])\n",
      "\u001b[0;31mAttributeError\u001b[0m: 'Hierarchy' object has no attribute 'chains'"
     ]
    }
   ],
   "source": [
    "fig = corner.corner(hierarchical.chains[1000:], labels=[r'$\\Gamma_{\\mathrm{all}}$'],\n",
    "                      truths=[hierarchical.mlvalues[0, 0]])"
   ]
  },
  {
   "cell_type": "code",
   "execution_count": 98,
   "metadata": {},
   "outputs": [],
   "source": [
    "area  = hierarchical.bin_areas[0][0]\n",
    "total = area * np.exp(hierarchical.mlvalues[0][1])\n",
    "error = total * hierarchical.mlvalues[0][2]\n",
    "\n",
    "print('Total expected planets:', total, '+/-', error)\n",
    "print('Bin-wide planets per star:', total/hierarchical.nstars, '+/-', error/hierarchical.nstars)"
   ]
  },
  {
   "cell_type": "markdown",
   "metadata": {},
   "source": [
    "## Load completeness and plot with planets."
   ]
  },
  {
   "cell_type": "code",
   "execution_count": 269,
   "metadata": {},
   "outputs": [],
   "source": [
    "recoveries_pairs = pd.read_csv('recoveries_small_and_outer_earth.csv')#.sample(100000).reset_index(drop=True)\n",
    "completey_pairs  = Completeness(recoveries_pairs)\n",
    "completey_pairs.completeness_grid([0.01, 30], [1, 30000])"
   ]
  },
  {
   "cell_type": "code",
   "execution_count": 111,
   "metadata": {},
   "outputs": [],
   "source": [
    "recoveries_small = pd.read_csv('recoveries_small_earth.csv')\n",
    "completey_small  = Completeness(recoveries_small)"
   ]
  },
  {
   "cell_type": "code",
   "execution_count": 226,
   "metadata": {},
   "outputs": [],
   "source": [
    "recoveries_outer = pd.read_csv('recoveries_outer_earth.csv')\n",
    "completey_outer  = Completeness(recoveries_outer)"
   ]
  },
  {
   "cell_type": "code",
   "execution_count": 227,
   "metadata": {},
   "outputs": [],
   "source": [
    "recoveries_planets = pd.read_csv('recoveries_planets_earth.csv')\n",
    "completey_planets  = Completeness(recoveries_planets)"
   ]
  },
  {
   "cell_type": "code",
   "execution_count": 228,
   "metadata": {},
   "outputs": [],
   "source": [
    "recoveries_all = pd.read_csv('recoveries_all_earth.csv')\n",
    "completey_all  = Completeness(recoveries_all)"
   ]
  },
  {
   "cell_type": "code",
   "execution_count": 210,
   "metadata": {},
   "outputs": [
    {
     "data": {
      "image/png": "[encoded data removed]",
      "text/plain": [
       "<Figure size 720x360 with 2 Axes>"
      ]
     },
     "metadata": {
      "needs_background": "light"
     },
     "output_type": "display_data"
    }
   ],
   "source": [
    "fig, ax = plt.subplots(figsize=(10, 5))\n",
    "\n",
    "ax.set_xscale('log')\n",
    "ax.set_yscale('log')\n",
    "ax.set_xticks((0.1, 1, 10))\n",
    "ax.get_xaxis().set_major_formatter(matplotlib.ticker.ScalarFormatter())\n",
    "ax.get_xaxis().set_minor_formatter(matplotlib.ticker.NullFormatter())\n",
    "ax.get_yaxis().set_major_formatter(matplotlib.ticker.ScalarFormatter())\n",
    "ax.get_yaxis().set_minor_formatter(matplotlib.ticker.NullFormatter())\n",
    "\n",
    "CS = ax.contourf(completey_pairs.grid[0], completey_pairs.grid[1],\n",
    "                 completey_pairs.grid[2], 10, cmap=plt.cm.gray)\n",
    "\n",
    "pair_outer = outers.query('axis > 0.23')\n",
    "pair_inner = supers.query('hostname in @outernames')\n",
    "\n",
    "matplotlib.rcParams.update({'font.size': 18})\n",
    "ax.set_title('Pair Contours')\n",
    "\n",
    "ax.scatter(pair_inner.axis, 317.8*pair_inner.mass, c='r', s=400, alpha=0.75, \n",
    "           label='{} inner small companions'.format(len(pair_inner)), marker='p')\n",
    "ax.scatter(pair_outer.axis, 317.8*pair_outer.mass, s=400, c='purple', alpha=0.75, \n",
    "           label='{} outer giant companions'.format(len(pair_outer)))\n",
    "ax.set_xlim([3*10**-2, 12])\n",
    "ax.set_ylim([2, 2000])\n",
    "\n",
    "ymin, ymax = ax.get_ylim()\n",
    "\n",
    "matplotlib.rcParams.update({'font.size': 16})\n",
    "ax.set_xlabel('Semi-major axis (AU)')\n",
    "ax.set_ylabel(r'$M$sin$i$ ($M_{\\oplus}$)')\n",
    "ax.legend(loc=2)\n",
    "\n",
    "plt.colorbar(mappable=CS, pad=0, label='Completeness')\n",
    "\n",
    "fig.savefig('plots/pair_contours.png', dpi=500, bbox_inches='tight')\n",
    "fig.savefig('plots/pair_contours.pdf', bbox_inches='tight')"
   ]
  },
  {
   "cell_type": "code",
   "execution_count": 272,
   "metadata": {},
   "outputs": [
    {
     "data": {
      "image/png": "[encoded data removed]",
      "text/plain": [
       "<Figure size 720x360 with 2 Axes>"
      ]
     },
     "metadata": {
      "needs_background": "light"
     },
     "output_type": "display_data"
    }
   ],
   "source": [
    "fig, ax = plt.subplots(figsize=(10, 5))\n",
    "\n",
    "ax.set_xscale('log')\n",
    "ax.set_yscale('log')\n",
    "ax.set_xticks((0.1, 1, 10))\n",
    "ax.get_xaxis().set_major_formatter(matplotlib.ticker.ScalarFormatter())\n",
    "ax.get_xaxis().set_minor_formatter(matplotlib.ticker.NullFormatter())\n",
    "ax.get_yaxis().set_major_formatter(matplotlib.ticker.ScalarFormatter())\n",
    "ax.get_yaxis().set_minor_formatter(matplotlib.ticker.NullFormatter())\n",
    "\n",
    "CS = ax.contourf(completey_outer.grid[0], completey_outer.grid[1],\n",
    "                 completey_outer.grid[2], 10, cmap=plt.cm.gray)\n",
    "\n",
    "pair_outer = all_outers.query('axis > 0.23')\n",
    "pair_inner = supers.query('hostname in @outernames')\n",
    "\n",
    "matplotlib.rcParams.update({'font.size': 18})\n",
    "ax.set_title('Outer Giant Contours')\n",
    "\n",
    "ax.scatter(pair_inner.axis, 317.8*pair_inner.mass, c='r', s=400, alpha=0.75, \n",
    "           label='{} inner small companions'.format(len(pair_inner)), marker='p')\n",
    "ax.scatter(pair_outer.axis, 317.8*pair_outer.mass, s=400, c='purple', alpha=0.75, \n",
    "           label='{} outer giants'.format(len(pair_outer)))\n",
    "ax.set_xlim([3*10**-2, 12])\n",
    "ax.set_ylim([2, 2000])\n",
    "\n",
    "ymin, ymax = ax.get_ylim()\n",
    "#ax2.set_ylim((ymin/317.8,ymax/317.8))\n",
    "#ax2.plot([],[])\n",
    "\n",
    "matplotlib.rcParams.update({'font.size': 16})\n",
    "ax.set_xlabel('Semi-major axis (AU)')\n",
    "ax.set_ylabel(r'$M$sin$i$ ($M_{\\oplus}$)')\n",
    "#ax2.set_ylabel(r'$M$sin$i$ ($M_J$)')\n",
    "ax.legend(loc=2)\n",
    "\n",
    "plt.colorbar(mappable=CS, pad=0, label='Completeness')\n",
    "\n",
    "fig.savefig('plots/pair_all_outers.png', dpi=500, bbox_inches='tight')\n",
    "fig.savefig('plots/pair_all_outers.pdf', bbox_inches='tight')"
   ]
  },
  {
   "cell_type": "code",
   "execution_count": 211,
   "metadata": {},
   "outputs": [
    {
     "data": {
      "image/png": "[encoded data removed]",
      "text/plain": [
       "<Figure size 720x360 with 2 Axes>"
      ]
     },
     "metadata": {
      "needs_background": "light"
     },
     "output_type": "display_data"
    }
   ],
   "source": [
    "fig, ax = plt.subplots(figsize=(10, 5))\n",
    "\n",
    "ax.set_xscale('log')\n",
    "ax.set_yscale('log')\n",
    "ax.set_xticks((0.1, 1, 10))\n",
    "ax.get_xaxis().set_major_formatter(matplotlib.ticker.ScalarFormatter())\n",
    "ax.get_xaxis().set_minor_formatter(matplotlib.ticker.NullFormatter())\n",
    "ax.get_yaxis().set_major_formatter(matplotlib.ticker.ScalarFormatter())\n",
    "ax.get_yaxis().set_minor_formatter(matplotlib.ticker.NullFormatter())\n",
    "\n",
    "CS = ax.contourf(completey_small.grid[0], completey_small.grid[1],\n",
    "                 completey_small.grid[2], 10, cmap=plt.cm.gray)\n",
    "\n",
    "pair_outer = outers.query('axis > 0.23')\n",
    "pair_inner = supers.query('hostname in @outernames')\n",
    "\n",
    "matplotlib.rcParams.update({'font.size': 18})\n",
    "ax.set_title('Small Planet Contours')\n",
    "ax.scatter(solos.axis, 317.8*solos.mass, c='g', s=400, alpha=0.75, \n",
    "           label='{} solo small planets'.format(len(solos)), marker='d')\n",
    "ax.scatter(pair_inner.axis, 317.8*pair_inner.mass, c='r', s=400, alpha=0.75, \n",
    "           label='{} inner small companions'.format(len(pair_inner)), marker='p')\n",
    "ax.scatter(pair_outer.axis, 317.8*pair_outer.mass, s=400, c='purple', alpha=0.75, \n",
    "           label='{} outer giant companions'.format(len(pair_outer)))\n",
    "ax.set_xlim([3*10**-2, 12])\n",
    "ax.set_ylim([2, 2000])\n",
    "\n",
    "ymin, ymax = ax.get_ylim()\n",
    "#ax2.set_ylim((ymin/317.8,ymax/317.8))\n",
    "#ax2.plot([],[])\n",
    "\n",
    "matplotlib.rcParams.update({'font.size': 16})\n",
    "ax.set_xlabel('Semi-major axis (AU)')\n",
    "ax.set_ylabel(r'$M$sin$i$ ($M_{\\oplus}$)')\n",
    "#ax2.set_ylabel(r'$M$sin$i$ ($M_J$)')\n",
    "ax.legend(loc=2)\n",
    "\n",
    "plt.colorbar(mappable=CS, pad=0, label='Completeness')\n",
    "\n",
    "fig.savefig('plots/small_planet_contours.png', dpi=500, bbox_inches='tight')\n",
    "fig.savefig('plots/small_planet_contours.pdf', bbox_inches='tight')"
   ]
  },
  {
   "cell_type": "code",
   "execution_count": 226,
   "metadata": {},
   "outputs": [
    {
     "data": {
      "image/png": "[encoded data removed]",
      "text/plain": [
       "<Figure size 720x360 with 2 Axes>"
      ]
     },
     "metadata": {
      "needs_background": "light"
     },
     "output_type": "display_data"
    }
   ],
   "source": [
    "fig, ax = plt.subplots(figsize=(10, 5))\n",
    "\n",
    "ax.set_xscale('log')\n",
    "ax.set_yscale('log')\n",
    "ax.set_xticks((0.1, 1, 10))\n",
    "ax.get_xaxis().set_major_formatter(matplotlib.ticker.ScalarFormatter())\n",
    "ax.get_xaxis().set_minor_formatter(matplotlib.ticker.NullFormatter())\n",
    "ax.get_yaxis().set_major_formatter(matplotlib.ticker.ScalarFormatter())\n",
    "ax.get_yaxis().set_minor_formatter(matplotlib.ticker.NullFormatter())\n",
    "\n",
    "CS = ax.contourf(completey_all.grid[0], completey_all.grid[1],\n",
    "                 completey_all.grid[2], 10, cmap=plt.cm.gray)\n",
    "\n",
    "pair_outer = outers.query('axis > 0.23')\n",
    "pair_inner = supers.query('hostname in @outernames')\n",
    "\n",
    "matplotlib.rcParams.update({'font.size': 18})\n",
    "ax.set_title('All Star Contours')\n",
    "ax.scatter(planets_old.axis, 317.8*planets_old.mass, c='b', s=50, alpha=0.75, \n",
    "           label='{} Known'.format(len(planets_old)))\n",
    "ax.scatter(planets_new.axis, 317.8*planets_new.mass, s=400, c='g', alpha=0.75, \n",
    "           label='{} New'.format(len(planets_new)))\n",
    "\n",
    "ax.set_xlim([2.5*10**-2, 30])\n",
    "ax.set_ylim([2.3, 9000])\n",
    "\n",
    "ymin, ymax = ax.get_ylim()\n",
    "\n",
    "matplotlib.rcParams.update({'font.size': 16})\n",
    "ax.set_xlabel('Semi-major axis (AU)')\n",
    "ax.set_ylabel(r'$M$sin$i$ ($M_{\\oplus}$)')\n",
    "ax.legend(loc=4)\n",
    "\n",
    "plt.colorbar(mappable=CS, pad=0, label='Completeness')\n",
    "\n",
    "fig.savefig('plots/all_contours.png', dpi=500, bbox_inches='tight')\n",
    "fig.savefig('plots/all_contours.pdf', bbox_inches='tight')"
   ]
  },
  {
   "cell_type": "code",
   "execution_count": 228,
   "metadata": {},
   "outputs": [
    {
     "data": {
      "image/png": "[encoded data removed]",
      "text/plain": [
       "<Figure size 720x360 with 2 Axes>"
      ]
     },
     "metadata": {
      "needs_background": "light"
     },
     "output_type": "display_data"
    }
   ],
   "source": [
    "fig, ax = plt.subplots(figsize=(10, 5))\n",
    "\n",
    "ax.set_xscale('log')\n",
    "ax.set_yscale('log')\n",
    "ax.set_xticks((0.1, 1, 10))\n",
    "ax.get_xaxis().set_major_formatter(matplotlib.ticker.ScalarFormatter())\n",
    "ax.get_xaxis().set_minor_formatter(matplotlib.ticker.NullFormatter())\n",
    "ax.get_yaxis().set_major_formatter(matplotlib.ticker.ScalarFormatter())\n",
    "ax.get_yaxis().set_minor_formatter(matplotlib.ticker.NullFormatter())\n",
    "\n",
    "CS = ax.contourf(completey_planets.grid[0], completey_planets.grid[1],\n",
    "                 completey_planets.grid[2], 10, cmap=plt.cm.gray)\n",
    "\n",
    "pair_outer = outers.query('axis > 0.23')\n",
    "pair_inner = supers.query('hostname in @outernames')\n",
    "\n",
    "matplotlib.rcParams.update({'font.size': 18})\n",
    "ax.set_title('All Planet Contours')\n",
    "ax.scatter(planets_old.axis, 317.8*planets_old.mass, c='b', s=50, alpha=0.75, \n",
    "           label='{} Known'.format(len(planets_old)))\n",
    "ax.scatter(planets_new.axis, 317.8*planets_new.mass, s=400, c='g', alpha=0.75, \n",
    "           label='{} New'.format(len(planets_new)))\n",
    "\n",
    "ax.set_xlim([2.5*10**-2, 30])\n",
    "ax.set_ylim([2.3, 9000])\n",
    "\n",
    "ymin, ymax = ax.get_ylim()\n",
    "\n",
    "matplotlib.rcParams.update({'font.size': 16})\n",
    "ax.set_xlabel('Semi-major axis (AU)')\n",
    "ax.set_ylabel(r'$M$sin$i$ ($M_{\\oplus}$)')\n",
    "ax.legend(loc=4)\n",
    "\n",
    "plt.colorbar(mappable=CS, pad=0, label='Completeness')\n",
    "\n",
    "fig.savefig('plots/all_planet_contours.png', dpi=500, bbox_inches='tight')\n",
    "fig.savefig('plots/all_planet_contours.pdf', bbox_inches='tight')"
   ]
  },
  {
   "cell_type": "markdown",
   "metadata": {},
   "source": [
    "## Make sampling dataframes for planet subsets."
   ]
  },
  {
   "cell_type": "code",
   "execution_count": 217,
   "metadata": {
    "collapsed": true
   },
   "outputs": [
    {
     "name": "stdout",
     "output_type": "stream",
     "text": [
      "104067_a1 104067_M1 0.267014724700186\n",
      "10697_a1 10697_M1 2.1542990713026526\n",
      "107148_a1 107148_M1 0.36731975652359056\n",
      "Outer\n",
      "107148_a2 107148_M2 0.1408501845464908\n",
      "108874_a1 108874_M1 1.0511401136884546\n",
      "108874_a2 108874_M2 2.8257886677458615\n",
      "114729_a1 114729_M1 2.0939130248625473\n",
      "114762_a1 114762_M1 0.3522505499166161\n",
      "114783_a1 114783_M1 1.1642103628358476\n",
      "114783_a2 114783_M2 4.9675694406362485\n",
      "115617_a1 115617_M1 0.21517949468859404\n",
      "115617_a2 115617_M2 0.049596344589626945\n",
      "117176_a1 117176_M1 0.47634479846645916\n",
      "117207_a1 117207_M1 3.7412979360956173\n",
      "11964a_a1 11964a_M1 3.18299506303374\n",
      "Outer\n",
      "11964a_a2 11964a_M2 0.2313048170358753\n",
      "120066_a1 120066_M1 28.767240263917863\n",
      "120136_a1 120136_M1 0.048668853561052425\n",
      "126614_a2 126614_M2 2.291654039034767\n",
      "12661_a1 12661_M1 0.8258890086968694\n",
      "12661_a2 12661_M2 2.866367322246937\n",
      "128311_a1 128311_M1 1.7417779534963183\n",
      "128311_a2 128311_M2 1.0884228806493446\n",
      "130322_a1 130322_M1 0.09295362412316559\n",
      "1326_a1 1326_M1 0.07327263426892192\n",
      "134987_a1 134987_M1 0.8187331464968974\n",
      "134987_a2 134987_M2 6.62096160623631\n",
      "136925_a1 136925_M1 5.127384803819787\n",
      "136925_a2 136925_M2 0.8584779313620998\n",
      "13931_a1 13931_M1 5.33572063435075\n",
      "141004_a1 141004_M1 0.12337954941560139\n",
      "141399_a1 141399_M1 0.6921291626463817\n",
      "141399_a2 141399_M2 2.109946932740565\n",
      "141399_a3 141399_M3 0.4170395382136855\n",
      "141399_a4 141399_M4 4.491692465317275\n",
      "143761_a1 143761_M1 0.22132288028308794\n",
      "143761_a2 143761_M2 0.4158127490941351\n",
      "145675_a1 145675_M1 2.8335433557176772\n",
      "145675_a2 145675_M2 15.235579502021139\n",
      "145934_a1 145934_M1 4.750255433147355\n",
      "1461_a1 1461_M1 0.06363539116144235\n",
      "1461_a2 1461_M2 0.11215216034365816\n",
      "147379a_a1 147379a_M1 0.33163572725470036\n",
      "Outer\n",
      "154345_a2 154345_M2 4.270087502545072\n",
      "156279_a1 156279_M1 0.5050729679877723\n",
      "156279_a2 156279_M2 5.475362899855481\n",
      "156668_a1 156668_M1 1.5700073765529696\n",
      "Outer\n",
      "156668_a2 156668_M2 0.05022132141545173\n",
      "16141_a1 16141_M1 0.36111755218158303\n",
      "164922_a1 164922_M1 2.1479931544260222\n",
      "Outer\n",
      "164922_a2 164922_M2 0.3411481675452864\n",
      "164922_a3 164922_M3 0.22925372885356482\n",
      "164922_a4 164922_M4 0.102350334066137\n",
      "167042_a1 167042_M1 1.3097447579234234\n",
      "168009_a2 168009_M2 0.11938318299048487\n",
      "168443_a1 168443_M1 0.29802368223620157\n",
      "168443_a2 168443_M2 2.884430909265073\n",
      "168746_a1 168746_M1 0.06506177386832905\n",
      "169830_a1 169830_M1 0.8122130183341022\n",
      "169830_a2 169830_M2 3.2780415594403287\n",
      "170469_a1 170469_M1 2.21096341965342\n",
      "175541_a1 175541_M1 0.9902490908975816\n",
      "177830_a1 177830_M1 1.1773990885668741\n",
      "177830_a2 177830_M2 0.49527904102546916\n",
      "178911b_a1 178911b_M1 0.3394651348501293\n",
      "179949_a1 179949_M1 0.04435622074909859\n",
      "181234_a1 181234_M1 7.442475674987833\n",
      "183263_a1 183263_M1 1.5072726984377884\n",
      "183263_a2 183263_M2 6.036224951279328\n",
      "186427_a1 186427_M1 1.6743733974661594\n",
      "187123_a1 187123_M1 0.04192878090527722\n",
      "187123_a2 187123_M2 4.440396638127417\n",
      "188015_a1 188015_M1 1.1845374452775856\n",
      "189733_a1 189733_M1 0.03122261450511614\n",
      "190360_a1 190360_M1 3.954253422286662\n",
      "Outer\n",
      "190360_a2 190360_M2 0.12934113640317907\n",
      "192263_a1 192263_M1 0.15385127741082244\n",
      "192310_a1 192310_M1 0.3266381989069373\n",
      "195019_a1 195019_M1 0.13746205965333047\n",
      "209458_a1 209458_M1 0.04633748102499975\n",
      "210277_a1 210277_M1 1.1236744304767174\n",
      "213472_a1 213472_M1 57698471386.51782\n",
      "216520_a2 216520_M2 0.19531496093046374\n",
      "217014_a1 217014_M1 0.05240401621269823\n",
      "217107_a1 217107_M1 0.07402847610560487\n",
      "217107_a2 217107_M2 5.952147932301777\n",
      "218566_a1 218566_M1 0.6872344005313492\n",
      "219134_a1 219134_M1 2.974626451396074\n",
      "Outer\n",
      "219134_a2 219134_M2 0.23464032840721735\n",
      "219134_a3 219134_M3 0.038394670203016346\n",
      "219134_a5 219134_M5 0.14542234044402572\n",
      "219134_a6 219134_M6 0.06469275408256647\n",
      "22049_a1 22049_M1 3.4943352070917504\n",
      "222582_a1 222582_M1 1.3363171855852078\n",
      "24040_a1 24040_M1 4.704627343228502\n",
      "24040_a2 24040_M2 1.297407986599548\n",
      "26161_a1 26161_M1 17.74641263514961\n",
      "28185_a1 28185_M1 1.0455880986788861\n",
      "285968_a1 285968_M1 0.06650445159404095\n",
      "31253_a1 31253_M1 1.2991519919123438\n",
      "32963_a1 32963_M1 3.4144961791965507\n",
      "33636_a1 33636_M1 3.2304830205559223\n",
      "34445_a1 34445_M1 2.1010842610923435\n",
      "Outer\n",
      "34445_a2 34445_M2 0.7249887848399323\n",
      "Outer\n",
      "34445_a3 34445_M3 0.48540015884390975\n",
      "Outer\n",
      "34445_a4 34445_M4 0.27137027693654125\n",
      "3651_a1 3651_M1 0.2955732889653516\n",
      "37124_a1 37124_M1 0.525599699709707\n",
      "37124_a2 37124_M2 1.6876274706695165\n",
      "37124_a3 37124_M3 2.6704282674609763\n",
      "3765_a1 3765_M1 2.1073454150303808\n",
      "38529_a1 38529_M1 3.736307596150266\n",
      "38529_a2 38529_M2 0.13290864420585025\n",
      "40979_a1 40979_M1 0.8675769399264869\n",
      "4203_a1 4203_M1 1.1769623780705638\n",
      "4203_a2 4203_M2 7.558534291568642\n",
      "4208_a1 4208_M1 1.63700987470529\n",
      "42618_a2 42618_M2 0.5328142161784872\n",
      "45184_a1 45184_M1 0.06413281234920326\n",
      "45184_a2 45184_M2 0.10955879803448462\n",
      "45350_a1 45350_M1 1.9574097804644988\n",
      "46375_a1 46375_M1 0.039933377442862586\n",
      "49674_a1 49674_M1 0.05795370091273225\n",
      "50499_a1 50499_M1 3.8400410725230656\n",
      "50499_a2 50499_M2 10.02710386564255\n",
      "50554_a1 50554_M1 2.2596459325797857\n",
      "52265_a1 52265_M1 0.5062644243762833\n",
      "66428_a1 66428_M1 3.45555306029745\n",
      "66428_a2 66428_M2 28.08503797730688\n",
      "68988_a1 68988_M1 0.07020945150386107\n",
      "68988_a2 68988_M2 13.753811899518947\n",
      "69830_a1 69830_M1 0.07941845004106463\n",
      "69830_a2 69830_M2 0.18811342271336537\n",
      "69830_a3 69830_M3 0.6443463250578447\n",
      "72659_a1 72659_M1 4.6536504479595635\n",
      "74156_a1 74156_M1 3.7322669631414493\n",
      "74156_a2 74156_M2 0.2848454763233539\n",
      "75732_a1 75732_M1 0.1161483321831916\n",
      "75732_a2 75732_M2 0.2431648328441052\n",
      "Outer\n",
      "75732_a3 75732_M3 5.53493577702985\n",
      "Outer\n",
      "75732_a4 75732_M4 0.7923558848600916\n",
      "Outer\n",
      "75732_a5 75732_M5 0.015820516624111686\n",
      "7924_a1 7924_M1 0.05590146759781021\n",
      "7924_a2 7924_M2 0.11196387590355047\n",
      "7924_a4 7924_M4 0.153017975789817\n",
      "80606_a1 80606_M1 0.4611949889646163\n",
      "82943_a1 82943_M1 0.7466963304466732\n",
      "82943_a2 82943_M2 1.1890503700071804\n",
      "83443_a1 83443_M1 0.04067572537248862\n",
      "8574_a1 8574_M1 0.7491257130378484\n",
      "87883_a1 87883_M1 4.076410095684426\n",
      "90156_a1 90156_M1 0.25107968872834363\n",
      "92788_a1 92788_M1 0.9521375458458343\n",
      "92788_a2 92788_M2 8.234193947625005\n",
      "95128_a1 95128_M1 2.0633557216662477\n",
      "95128_a2 95128_M2 3.411733812035462\n",
      "95128_a3 95128_M3 13.761477905447325\n",
      "95735_a1 95735_M1 3.0612569737919717\n",
      "95735_a2 95735_M2 0.07887636826894961\n",
      "97101_a1 97101_M1 1.422322967060626\n",
      "Outer\n",
      "97101_a4 97101_M4 0.24023354915931916\n",
      "97658_a1 97658_M1 0.08048680968348955\n",
      "9826_a1 9826_M1 0.059204834267120796\n",
      "9826_a2 9826_M2 0.827474307930065\n",
      "9826_a3 9826_M3 2.5194686818102445\n",
      "99109_a1 99109_M1 1.121325472921873\n",
      "99492_a1 99492_M1 0.12311567060795493\n",
      "bd-103166_a1 bd-103166_M1 0.045015015783559\n",
      "gl317_a1 gl317_M1 1.1813817626146972\n",
      "gl317_a2 gl317_M2 5.966255106702549\n",
      "gl687_a1 gl687_M1 0.1656512899166182\n",
      "gl876_a1 gl876_M1 0.21803511842596135\n",
      "gl876_a2 gl876_M2 0.13648870949089467\n",
      "hip109388_a1 hip109388_M1 2.4093852978397794\n",
      "hip109388_a2 hip109388_M2 4.971776964456701\n",
      "hip22627_a1 hip22627_M1 2.524692659661229\n",
      "hip57050_a1 hip57050_M1 0.9288092506938871\n",
      "hip57050_a2 hip57050_M2 0.16856024350689142\n",
      "hip57087_a1 hip57087_M1 0.028498860609913915\n",
      "hip74995_a1 hip74995_M1 0.04097834061329832\n",
      "hip74995_a2 hip74995_M2 0.07357153485778273\n",
      "hip83043_a1 hip83043_M1 1.1320069592597477\n"
     ]
    }
   ],
   "source": [
    "samples_all = pd.read_csv('../samples_all_1000.csv').sample(200).reset_index(drop=True)\n",
    "samples_med = samples_all.median()\n",
    "\n",
    "columns = [col for col in samples_all.columns if ('_M' in col or '_a' in col)]\n",
    "samples_all = samples_all[columns]\n",
    "planetnames = np.unique([x[:-2] + x[-1] for x in samples_all.columns]) \n",
    "\n",
    "# Trim out planets that don't belong in each sample.\n",
    "#columns_outers = [col for col in samples_all.columns if col[:-2] in list(supers.hostname)]\n",
    "#columns_small = [col for col in samples_all.columns if col[:-2] in list(all_outers.hostname)]\n",
    "columns_outers = []\n",
    "colums_small = []\n",
    "for planet in planetnames:\n",
    "    a_col = planet[:-2] + '_a' + planet[-1]\n",
    "    M_col = planet[:-2] + '_M' + planet[-1]\n",
    "    if (samples_med[a_col] > 0.2) and (samples_med[M_col] > 0.08) and planet[:-2] in list(supers.hostname):\n",
    "        columns_outers.append(a_col)\n",
    "        columns_outers.append(M_col)\n",
    "    if samples_med[M_col] < 0.11 and planet[:-2] in list(all_outers.hostname):\n",
    "        columns_small.append(a_col)\n",
    "        columns_small.append(M_col)\n",
    "\n",
    "samples_small = samples_all[columns_small]\n",
    "for col in columns_small:\n",
    "    if '_M' in col:\n",
    "        samples_small[col] *= 317.8\n",
    "        \n",
    "samples_outers = samples_all[columns_outers]\n",
    "for col in columns_outers:\n",
    "    if '_M' in col:\n",
    "        samples_outers[col] *= 317.8"
   ]
  },
  {
   "cell_type": "code",
   "execution_count": 268,
   "metadata": {},
   "outputs": [],
   "source": [
    "outerbins = lngrid(0.2, 30., 30., 317.8*20, 5, 4) \n",
    "hierarchical_outer = Hierarchy(samples_outers, completey_small, bins=outerbins)"
   ]
  },
  {
   "cell_type": "code",
   "execution_count": 269,
   "metadata": {},
   "outputs": [],
   "source": [
    "hierarchical_outer.max_like()"
   ]
  },
  {
   "cell_type": "code",
   "execution_count": 270,
   "metadata": {},
   "outputs": [
    {
     "data": {
      "text/plain": [
       "array([[3.15759922, 1.57879961],\n",
       "       [0.        , 1.        ],\n",
       "       [0.        , 1.        ],\n",
       "       [0.        , 1.        ],\n",
       "       [2.59402896, 1.49766332],\n",
       "       [0.        , 1.        ],\n",
       "       [0.        , 1.        ],\n",
       "       [0.        , 1.        ],\n",
       "       [3.64471016, 2.10427439],\n",
       "       [1.73867103, 1.22942608],\n",
       "       [0.87005818, 0.87005818],\n",
       "       [0.        , 1.        ],\n",
       "       [0.        , 1.        ],\n",
       "       [0.        , 1.        ],\n",
       "       [0.99011519, 0.99011519],\n",
       "       [0.        , 1.        ],\n",
       "       [0.        , 1.        ],\n",
       "       [0.        , 1.        ],\n",
       "       [0.        , 1.        ],\n",
       "       [0.        , 1.        ]])"
      ]
     },
     "execution_count": 270,
     "metadata": {},
     "output_type": "execute_result"
    }
   ],
   "source": [
    "hierarchical_outer.mlvalues"
   ]
  },
  {
   "cell_type": "code",
   "execution_count": null,
   "metadata": {},
   "outputs": [
    {
     "name": "stderr",
     "output_type": "stream",
     "text": [
      "  0%|          | 3/1000 [00:33<3:05:51, 11.18s/it]"
     ]
    }
   ],
   "source": [
    "hierarchical_outer.sample()"
   ]
  },
  {
   "cell_type": "code",
   "execution_count": 233,
   "metadata": {},
   "outputs": [],
   "source": [
    "nsuperstars = len(np.unique(supers.hostname))\n",
    "nouterstars = len(np.unique(planets.query('axis > 0.23 and mass >= 0.1').hostname))"
   ]
  },
  {
   "cell_type": "code",
   "execution_count": 239,
   "metadata": {},
   "outputs": [
    {
     "name": "stdout",
     "output_type": "stream",
     "text": [
      "Total expected planets: 22.865293734669095 +/- inf\n",
      "Bin-wide planets per star: 0.39422920232188097 +/- inf\n"
     ]
    }
   ],
   "source": [
    "area  = hierarchical_outer.bin_areas[0][0]\n",
    "rates = area * np.exp(hierarchical_outer.mlvalues[:, 0])\n",
    "total = np.sum(rates)\n",
    "error = np.sum(total * hierarchical_outer.mlvalues[:, 1])\n",
    "\n",
    "print('Total expected planets:', total, '+/-', error)\n",
    "print('Bin-wide planets per star:', total/nsuperstars/(2), '+/-', error/nsuperstars)"
   ]
  },
  {
   "cell_type": "code",
   "execution_count": 261,
   "metadata": {},
   "outputs": [],
   "source": [
    "hierarchical_inner = Hierarchy(samples_small, completey_outer, \n",
    "                               bins=np.array([[[np.log(0.023), np.log(1)], \n",
    "                                               [np.log(2.), np.log(30)]]]))"
   ]
  },
  {
   "cell_type": "code",
   "execution_count": 228,
   "metadata": {},
   "outputs": [
    {
     "data": {
      "text/plain": [
       "14"
      ]
     },
     "execution_count": 228,
     "metadata": {},
     "output_type": "execute_result"
    }
   ],
   "source": [
    "len(hierarchical_inner.pop_med.query('msini < 30 and axis < 1'))"
   ]
  },
  {
   "cell_type": "code",
   "execution_count": 264,
   "metadata": {},
   "outputs": [
    {
     "name": "stdout",
     "output_type": "stream",
     "text": [
      "> <ipython-input-257-76634e344a48>(44)max_like()\n",
      "-> Q = 0\n",
      "(Pdb) continue\n",
      "> <ipython-input-257-76634e344a48>(58)max_like()\n",
      "-> ml, uml = np.log(nplanets/Q), 1/np.sqrt(nplanets)\n",
      "(Pdb) Q\n",
      "0.6537466723094512\n",
      "(Pdb) Q/self.bin_areas[0][0]\n",
      "0.06399573618963239\n",
      "(Pdb) continue\n"
     ]
    }
   ],
   "source": [
    "hierarchical_inner.max_like()"
   ]
  },
  {
   "cell_type": "code",
   "execution_count": 266,
   "metadata": {},
   "outputs": [
    {
     "name": "stdout",
     "output_type": "stream",
     "text": [
      "Total expected planets: 203.13853350289392 +/- 56.34049219748027\n",
      "Bin-wide planets per star: 2.507883129665357 +/- 0.6955616320676576\n"
     ]
    }
   ],
   "source": [
    "area  = hierarchical_inner.bin_areas[0][0]\n",
    "total = area * np.exp(hierarchical_inner.mlvalues[:, 0])[0]\n",
    "error = total * hierarchical_inner.mlvalues[:, 1][0]\n",
    "\n",
    "print('Total expected planets:', total, '+/-', error)\n",
    "print('Bin-wide planets per star:', total/nouterstars, '+/-', error/nouterstars)"
   ]
  },
  {
   "cell_type": "code",
   "execution_count": 227,
   "metadata": {
    "collapsed": true
   },
   "outputs": [
    {
     "data": {
      "text/plain": [
       "array(['104067_', '10697_', '107148_', '108874_', '114729_', '114762_',\n",
       "       '114783_', '117176_', '117207_', '11964a_', '120066_', '126614_',\n",
       "       '12661_', '128311_', '134987_', '136925_', '13931_', '141399_',\n",
       "       '145675_', '145934_', '154345_', '156279_', '156668_', '16141_',\n",
       "       '164922_', '167042_', '168443_', '169830_', '170469_', '175541_',\n",
       "       '177830_', '178911b_', '181234_', '183263_', '186427_', '187123_',\n",
       "       '188015_', '190360_', '210277_', '213472_', '217107_', '218566_',\n",
       "       '219134_', '22049_', '222582_', '24040_', '26161_', '28185_',\n",
       "       '31253_', '32963_', '33636_', '34445_', '3651_', '37124_', '3765_',\n",
       "       '38529_', '40979_', '4203_', '4208_', '45350_', '50499_', '50554_',\n",
       "       '52265_', '68988_', '72659_', '74156_', '75732_', '80606_',\n",
       "       '82943_', '8574_', '87883_', '92788_', '95128_', '97101_', '9826_',\n",
       "       '99109_', 'gl317_', 'hip109388_', 'hip22627_', 'hip57050_',\n",
       "       'hip83043_'], dtype='<U10')"
      ]
     },
     "execution_count": 227,
     "metadata": {},
     "output_type": "execute_result"
    }
   ],
   "source": [
    "hierarchical_inner.starnames"
   ]
  },
  {
   "cell_type": "code",
   "execution_count": null,
   "metadata": {},
   "outputs": [],
   "source": [
    "with open('names_all.csv', 'w') as f:\n",
    "    writer = csv.writer(f)\n",
    "    writer.writerow(['name'])\n",
    "    for val in np.unique(specmatch.name):\n",
    "        writer.writerow([val])\n",
    "\n",
    "with open('names_planets.csv', 'w') as f:\n",
    "    writer = csv.writer(f)\n",
    "    writer.writerow(['name'])\n",
    "    for val in np.unique(planets.hostname):\n",
    "        writer.writerow([val])\n",
    "        \n",
    "with open('names_small.csv', 'w') as f:\n",
    "    writer = csv.writer(f)\n",
    "    writer.writerow(['name'])\n",
    "    for val in np.unique(supers.hostname):\n",
    "        writer.writerow([val])\n",
    "        \n",
    "with open('names_outer.csv', 'w') as f:\n",
    "    writer = csv.writer(f)\n",
    "    writer.writerow(['name'])\n",
    "    for val in np.unique(all_outers.hostname):\n",
    "        writer.writerow([val])\n",
    "        \n",
    "with open('names_small_and_outer.csv', 'w') as f:\n",
    "    writer = csv.writer(f)\n",
    "    writer.writerow(['name'])\n",
    "    for val in np.unique(outers.hostname):\n",
    "        writer.writerow([val])"
   ]
  }
 ],
 "metadata": {
  "kernelspec": {
   "display_name": "Python 3",
   "language": "python",
   "name": "python3"
  },
  "language_info": {
   "codemirror_mode": {
    "name": "ipython",
    "version": 3
   },
   "file_extension": ".py",
   "mimetype": "text/x-python",
   "name": "python",
   "nbconvert_exporter": "python",
   "pygments_lexer": "ipython3",
   "version": "3.7.5"
  }
 },
 "nbformat": 4,
 "nbformat_minor": 2
}
